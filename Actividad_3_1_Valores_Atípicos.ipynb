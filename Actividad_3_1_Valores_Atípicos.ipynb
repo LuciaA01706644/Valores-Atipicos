{
  "cells": [
    {
      "cell_type": "markdown",
      "source": [
        "# ACTIVIDAD 3.1 VALORES ATÍPICOS\n",
        "\n",
        "## Lucía Castañeda\n",
        "## A01706644"
      ],
      "metadata": {
        "id": "7wDj4WYHfAoy"
      }
    },
    {
      "cell_type": "code",
      "execution_count": 3,
      "metadata": {
        "id": "Mlye_R3or7Xt"
      },
      "outputs": [],
      "source": [
        "import pandas as pd\n",
        "import numpy as np\n",
        "import matplotlib.pyplot as plt"
      ]
    },
    {
      "cell_type": "code",
      "execution_count": 4,
      "metadata": {
        "colab": {
          "base_uri": "https://localhost:8080/",
          "height": 493
        },
        "id": "dwBl0kzSsDwJ",
        "outputId": "0516f17e-458a-44c9-e0d9-a8e4a1df8577"
      },
      "outputs": [
        {
          "output_type": "execute_result",
          "data": {
            "text/plain": [
              "    Unnamed: 0 indice_tiempo  ventas_precios_corrientes  \\\n",
              "0            0    01/01/2017                    27858.9   \n",
              "1            1    01/02/2017                    25994.2   \n",
              "2            2    01/03/2017                    27780.0   \n",
              "3            3    01/04/2017                    29134.3   \n",
              "4            4    01/05/2017                    27969.0   \n",
              "..         ...           ...                        ...   \n",
              "60          60    01/01/2022                   154517.1   \n",
              "61          61    01/02/2022                   152202.6   \n",
              "62          62    01/03/2022                       16.5   \n",
              "63          63    01/04/2022                   177148.1   \n",
              "64          64    01/05/2022                   179639.2   \n",
              "\n",
              "    ventas_precios_constantes  ventas_totales_canal_venta  salon_ventas  \\\n",
              "0                     27477.3                2.785887e+07  2.759173e+07   \n",
              "1                     25223.4                2.599420e+07  2.574918e+07   \n",
              "2                     26334.3                2.778001e+07  2.747223e+07   \n",
              "3                     27045.9                2.913427e+07  2.882748e+07   \n",
              "4                     25631.9                2.796900e+07  2.756931e+07   \n",
              "..                        ...                         ...           ...   \n",
              "60                    45463.4                1.545171e+08  1.496976e+08   \n",
              "61                    23802.1                1.522026e+08  1.484065e+08   \n",
              "62                    24612.4                1.689825e+08  1.643211e+08   \n",
              "63                    24140.5                1.771481e+08  1.730038e+08   \n",
              "64                    23234.2                1.796392e+08  1.753585e+08   \n",
              "\n",
              "    canales_on_line  ventas_totales_medio_pago      efectivo  tarjetas_debito  \\\n",
              "0      2.671420e+05               2.785887e+07  1.023010e+07     6.864575e+06   \n",
              "1      2.450208e+05               2.599420e+07  9.719067e+06     6.438494e+06   \n",
              "2      3.077778e+05               2.778001e+07  1.024444e+07     6.908523e+06   \n",
              "3      3.067927e+05               2.913427e+07  1.031263e+07     7.454252e+06   \n",
              "4      3.996933e+05               2.796900e+07  1.014761e+07     6.735747e+06   \n",
              "..              ...                        ...           ...              ...   \n",
              "60     4.819480e+06               1.545171e+08  4.696260e+07     4.605365e+07   \n",
              "61     3.796044e+06               1.522026e+08  4.629096e+07     4.528358e+07   \n",
              "62     4.661350e+05               1.689825e+08  5.126208e+07     4.736436e+07   \n",
              "63     4.144284e+06               1.771481e+08  5.319000e+07     5.006397e+07   \n",
              "64     4.280751e+06               1.796392e+08  5.273811e+07     4.988679e+07   \n",
              "\n",
              "    ...       almacen     panaderia       lacteos        carnes  \\\n",
              "0   ...  6.705475e+06  9.459063e+05  2.880656e+06  2.606193e+06   \n",
              "1   ...  6.576625e+06  9.256186e+05  2.855640e+06  2.600084e+06   \n",
              "2   ...  7.437264e+06  1.016148e+06  3.188259e+06  2.824977e+06   \n",
              "3   ...  8.211244e+06  1.132396e+06  3.257140e+06  3.006159e+06   \n",
              "4   ...  7.651058e+06  1.033082e+06  3.232636e+06  2.799142e+06   \n",
              "..  ...           ...           ...           ...           ...   \n",
              "60  ...  3.750517e+07  4.860318e+06  1.610477e+07  1.740849e+07   \n",
              "61  ...  3.820979e+07  5.045920e+06  1.613982e+07  1.826074e+07   \n",
              "62  ...  4.541886e+07  5.922820e+06  1.841916e+07  2.082760e+07   \n",
              "63  ...  4.999168e+07  6.746167e+06  1.930946e+07  2.287784e+07   \n",
              "64  ...  5.015035e+07  6.667330e+06  2.012112e+07  2.284153e+07   \n",
              "\n",
              "    verduleria_fruteria  alimentos_preparados_rotiseria  \\\n",
              "0          1.050314e+06                    3.407774e+05   \n",
              "1          1.026167e+06                    3.282887e+05   \n",
              "2          1.075526e+06                    3.533352e+05   \n",
              "3          1.037213e+06                    3.596945e+05   \n",
              "4          9.826512e+05                    3.365680e+05   \n",
              "..                  ...                             ...   \n",
              "60         6.138441e+06                    1.401929e+06   \n",
              "61         6.436028e+06                    1.370640e+06   \n",
              "62         6.886240e+06                    1.589119e+06   \n",
              "63         6.510666e+06                    1.719459e+06   \n",
              "64         6.314109e+06                    1.779483e+06   \n",
              "\n",
              "    articulos_limpieza_perfumeria  indumentaria_calzado_textiles_hogar  \\\n",
              "0                    4.397544e+06                         7.723718e+05   \n",
              "1                    4.053284e+06                         6.722905e+05   \n",
              "2                    4.354198e+06                         6.676967e+05   \n",
              "3                    4.355707e+06                         8.389482e+05   \n",
              "4                    4.206102e+06                         9.158951e+05   \n",
              "..                            ...                                  ...   \n",
              "60                   2.133021e+07                         3.782646e+06   \n",
              "61                   2.030545e+07                         0.000000e+00   \n",
              "62                   2.294201e+07                         3.912852e+06   \n",
              "63                   2.313127e+07                         4.228054e+06   \n",
              "64                   2.357864e+07                         5.213153e+06   \n",
              "\n",
              "    electronicos_articulos_hogar         otros  \n",
              "0                   1.838507e+06  2.806660e+06  \n",
              "1                   1.257662e+06  2.354085e+06  \n",
              "2                   1.305675e+06  2.266189e+06  \n",
              "3                   1.535726e+06  2.146756e+06  \n",
              "4                   1.824462e+06  2.117971e+06  \n",
              "..                           ...           ...  \n",
              "60                  1.218755e+07  1.343307e+07  \n",
              "61                  9.189746e+06  1.330139e+07  \n",
              "62                  1.089879e+07  0.000000e+00  \n",
              "63                  0.000000e+00  1.191048e+07  \n",
              "64                  1.203960e+07  1.234998e+07  \n",
              "\n",
              "[65 rows x 25 columns]"
            ],
            "text/html": [
              "\n",
              "  <div id=\"df-fcb10ee3-ce67-4ec9-8050-086883199332\">\n",
              "    <div class=\"colab-df-container\">\n",
              "      <div>\n",
              "<style scoped>\n",
              "    .dataframe tbody tr th:only-of-type {\n",
              "        vertical-align: middle;\n",
              "    }\n",
              "\n",
              "    .dataframe tbody tr th {\n",
              "        vertical-align: top;\n",
              "    }\n",
              "\n",
              "    .dataframe thead th {\n",
              "        text-align: right;\n",
              "    }\n",
              "</style>\n",
              "<table border=\"1\" class=\"dataframe\">\n",
              "  <thead>\n",
              "    <tr style=\"text-align: right;\">\n",
              "      <th></th>\n",
              "      <th>Unnamed: 0</th>\n",
              "      <th>indice_tiempo</th>\n",
              "      <th>ventas_precios_corrientes</th>\n",
              "      <th>ventas_precios_constantes</th>\n",
              "      <th>ventas_totales_canal_venta</th>\n",
              "      <th>salon_ventas</th>\n",
              "      <th>canales_on_line</th>\n",
              "      <th>ventas_totales_medio_pago</th>\n",
              "      <th>efectivo</th>\n",
              "      <th>tarjetas_debito</th>\n",
              "      <th>...</th>\n",
              "      <th>almacen</th>\n",
              "      <th>panaderia</th>\n",
              "      <th>lacteos</th>\n",
              "      <th>carnes</th>\n",
              "      <th>verduleria_fruteria</th>\n",
              "      <th>alimentos_preparados_rotiseria</th>\n",
              "      <th>articulos_limpieza_perfumeria</th>\n",
              "      <th>indumentaria_calzado_textiles_hogar</th>\n",
              "      <th>electronicos_articulos_hogar</th>\n",
              "      <th>otros</th>\n",
              "    </tr>\n",
              "  </thead>\n",
              "  <tbody>\n",
              "    <tr>\n",
              "      <th>0</th>\n",
              "      <td>0</td>\n",
              "      <td>01/01/2017</td>\n",
              "      <td>27858.9</td>\n",
              "      <td>27477.3</td>\n",
              "      <td>2.785887e+07</td>\n",
              "      <td>2.759173e+07</td>\n",
              "      <td>2.671420e+05</td>\n",
              "      <td>2.785887e+07</td>\n",
              "      <td>1.023010e+07</td>\n",
              "      <td>6.864575e+06</td>\n",
              "      <td>...</td>\n",
              "      <td>6.705475e+06</td>\n",
              "      <td>9.459063e+05</td>\n",
              "      <td>2.880656e+06</td>\n",
              "      <td>2.606193e+06</td>\n",
              "      <td>1.050314e+06</td>\n",
              "      <td>3.407774e+05</td>\n",
              "      <td>4.397544e+06</td>\n",
              "      <td>7.723718e+05</td>\n",
              "      <td>1.838507e+06</td>\n",
              "      <td>2.806660e+06</td>\n",
              "    </tr>\n",
              "    <tr>\n",
              "      <th>1</th>\n",
              "      <td>1</td>\n",
              "      <td>01/02/2017</td>\n",
              "      <td>25994.2</td>\n",
              "      <td>25223.4</td>\n",
              "      <td>2.599420e+07</td>\n",
              "      <td>2.574918e+07</td>\n",
              "      <td>2.450208e+05</td>\n",
              "      <td>2.599420e+07</td>\n",
              "      <td>9.719067e+06</td>\n",
              "      <td>6.438494e+06</td>\n",
              "      <td>...</td>\n",
              "      <td>6.576625e+06</td>\n",
              "      <td>9.256186e+05</td>\n",
              "      <td>2.855640e+06</td>\n",
              "      <td>2.600084e+06</td>\n",
              "      <td>1.026167e+06</td>\n",
              "      <td>3.282887e+05</td>\n",
              "      <td>4.053284e+06</td>\n",
              "      <td>6.722905e+05</td>\n",
              "      <td>1.257662e+06</td>\n",
              "      <td>2.354085e+06</td>\n",
              "    </tr>\n",
              "    <tr>\n",
              "      <th>2</th>\n",
              "      <td>2</td>\n",
              "      <td>01/03/2017</td>\n",
              "      <td>27780.0</td>\n",
              "      <td>26334.3</td>\n",
              "      <td>2.778001e+07</td>\n",
              "      <td>2.747223e+07</td>\n",
              "      <td>3.077778e+05</td>\n",
              "      <td>2.778001e+07</td>\n",
              "      <td>1.024444e+07</td>\n",
              "      <td>6.908523e+06</td>\n",
              "      <td>...</td>\n",
              "      <td>7.437264e+06</td>\n",
              "      <td>1.016148e+06</td>\n",
              "      <td>3.188259e+06</td>\n",
              "      <td>2.824977e+06</td>\n",
              "      <td>1.075526e+06</td>\n",
              "      <td>3.533352e+05</td>\n",
              "      <td>4.354198e+06</td>\n",
              "      <td>6.676967e+05</td>\n",
              "      <td>1.305675e+06</td>\n",
              "      <td>2.266189e+06</td>\n",
              "    </tr>\n",
              "    <tr>\n",
              "      <th>3</th>\n",
              "      <td>3</td>\n",
              "      <td>01/04/2017</td>\n",
              "      <td>29134.3</td>\n",
              "      <td>27045.9</td>\n",
              "      <td>2.913427e+07</td>\n",
              "      <td>2.882748e+07</td>\n",
              "      <td>3.067927e+05</td>\n",
              "      <td>2.913427e+07</td>\n",
              "      <td>1.031263e+07</td>\n",
              "      <td>7.454252e+06</td>\n",
              "      <td>...</td>\n",
              "      <td>8.211244e+06</td>\n",
              "      <td>1.132396e+06</td>\n",
              "      <td>3.257140e+06</td>\n",
              "      <td>3.006159e+06</td>\n",
              "      <td>1.037213e+06</td>\n",
              "      <td>3.596945e+05</td>\n",
              "      <td>4.355707e+06</td>\n",
              "      <td>8.389482e+05</td>\n",
              "      <td>1.535726e+06</td>\n",
              "      <td>2.146756e+06</td>\n",
              "    </tr>\n",
              "    <tr>\n",
              "      <th>4</th>\n",
              "      <td>4</td>\n",
              "      <td>01/05/2017</td>\n",
              "      <td>27969.0</td>\n",
              "      <td>25631.9</td>\n",
              "      <td>2.796900e+07</td>\n",
              "      <td>2.756931e+07</td>\n",
              "      <td>3.996933e+05</td>\n",
              "      <td>2.796900e+07</td>\n",
              "      <td>1.014761e+07</td>\n",
              "      <td>6.735747e+06</td>\n",
              "      <td>...</td>\n",
              "      <td>7.651058e+06</td>\n",
              "      <td>1.033082e+06</td>\n",
              "      <td>3.232636e+06</td>\n",
              "      <td>2.799142e+06</td>\n",
              "      <td>9.826512e+05</td>\n",
              "      <td>3.365680e+05</td>\n",
              "      <td>4.206102e+06</td>\n",
              "      <td>9.158951e+05</td>\n",
              "      <td>1.824462e+06</td>\n",
              "      <td>2.117971e+06</td>\n",
              "    </tr>\n",
              "    <tr>\n",
              "      <th>...</th>\n",
              "      <td>...</td>\n",
              "      <td>...</td>\n",
              "      <td>...</td>\n",
              "      <td>...</td>\n",
              "      <td>...</td>\n",
              "      <td>...</td>\n",
              "      <td>...</td>\n",
              "      <td>...</td>\n",
              "      <td>...</td>\n",
              "      <td>...</td>\n",
              "      <td>...</td>\n",
              "      <td>...</td>\n",
              "      <td>...</td>\n",
              "      <td>...</td>\n",
              "      <td>...</td>\n",
              "      <td>...</td>\n",
              "      <td>...</td>\n",
              "      <td>...</td>\n",
              "      <td>...</td>\n",
              "      <td>...</td>\n",
              "      <td>...</td>\n",
              "    </tr>\n",
              "    <tr>\n",
              "      <th>60</th>\n",
              "      <td>60</td>\n",
              "      <td>01/01/2022</td>\n",
              "      <td>154517.1</td>\n",
              "      <td>45463.4</td>\n",
              "      <td>1.545171e+08</td>\n",
              "      <td>1.496976e+08</td>\n",
              "      <td>4.819480e+06</td>\n",
              "      <td>1.545171e+08</td>\n",
              "      <td>4.696260e+07</td>\n",
              "      <td>4.605365e+07</td>\n",
              "      <td>...</td>\n",
              "      <td>3.750517e+07</td>\n",
              "      <td>4.860318e+06</td>\n",
              "      <td>1.610477e+07</td>\n",
              "      <td>1.740849e+07</td>\n",
              "      <td>6.138441e+06</td>\n",
              "      <td>1.401929e+06</td>\n",
              "      <td>2.133021e+07</td>\n",
              "      <td>3.782646e+06</td>\n",
              "      <td>1.218755e+07</td>\n",
              "      <td>1.343307e+07</td>\n",
              "    </tr>\n",
              "    <tr>\n",
              "      <th>61</th>\n",
              "      <td>61</td>\n",
              "      <td>01/02/2022</td>\n",
              "      <td>152202.6</td>\n",
              "      <td>23802.1</td>\n",
              "      <td>1.522026e+08</td>\n",
              "      <td>1.484065e+08</td>\n",
              "      <td>3.796044e+06</td>\n",
              "      <td>1.522026e+08</td>\n",
              "      <td>4.629096e+07</td>\n",
              "      <td>4.528358e+07</td>\n",
              "      <td>...</td>\n",
              "      <td>3.820979e+07</td>\n",
              "      <td>5.045920e+06</td>\n",
              "      <td>1.613982e+07</td>\n",
              "      <td>1.826074e+07</td>\n",
              "      <td>6.436028e+06</td>\n",
              "      <td>1.370640e+06</td>\n",
              "      <td>2.030545e+07</td>\n",
              "      <td>0.000000e+00</td>\n",
              "      <td>9.189746e+06</td>\n",
              "      <td>1.330139e+07</td>\n",
              "    </tr>\n",
              "    <tr>\n",
              "      <th>62</th>\n",
              "      <td>62</td>\n",
              "      <td>01/03/2022</td>\n",
              "      <td>16.5</td>\n",
              "      <td>24612.4</td>\n",
              "      <td>1.689825e+08</td>\n",
              "      <td>1.643211e+08</td>\n",
              "      <td>4.661350e+05</td>\n",
              "      <td>1.689825e+08</td>\n",
              "      <td>5.126208e+07</td>\n",
              "      <td>4.736436e+07</td>\n",
              "      <td>...</td>\n",
              "      <td>4.541886e+07</td>\n",
              "      <td>5.922820e+06</td>\n",
              "      <td>1.841916e+07</td>\n",
              "      <td>2.082760e+07</td>\n",
              "      <td>6.886240e+06</td>\n",
              "      <td>1.589119e+06</td>\n",
              "      <td>2.294201e+07</td>\n",
              "      <td>3.912852e+06</td>\n",
              "      <td>1.089879e+07</td>\n",
              "      <td>0.000000e+00</td>\n",
              "    </tr>\n",
              "    <tr>\n",
              "      <th>63</th>\n",
              "      <td>63</td>\n",
              "      <td>01/04/2022</td>\n",
              "      <td>177148.1</td>\n",
              "      <td>24140.5</td>\n",
              "      <td>1.771481e+08</td>\n",
              "      <td>1.730038e+08</td>\n",
              "      <td>4.144284e+06</td>\n",
              "      <td>1.771481e+08</td>\n",
              "      <td>5.319000e+07</td>\n",
              "      <td>5.006397e+07</td>\n",
              "      <td>...</td>\n",
              "      <td>4.999168e+07</td>\n",
              "      <td>6.746167e+06</td>\n",
              "      <td>1.930946e+07</td>\n",
              "      <td>2.287784e+07</td>\n",
              "      <td>6.510666e+06</td>\n",
              "      <td>1.719459e+06</td>\n",
              "      <td>2.313127e+07</td>\n",
              "      <td>4.228054e+06</td>\n",
              "      <td>0.000000e+00</td>\n",
              "      <td>1.191048e+07</td>\n",
              "    </tr>\n",
              "    <tr>\n",
              "      <th>64</th>\n",
              "      <td>64</td>\n",
              "      <td>01/05/2022</td>\n",
              "      <td>179639.2</td>\n",
              "      <td>23234.2</td>\n",
              "      <td>1.796392e+08</td>\n",
              "      <td>1.753585e+08</td>\n",
              "      <td>4.280751e+06</td>\n",
              "      <td>1.796392e+08</td>\n",
              "      <td>5.273811e+07</td>\n",
              "      <td>4.988679e+07</td>\n",
              "      <td>...</td>\n",
              "      <td>5.015035e+07</td>\n",
              "      <td>6.667330e+06</td>\n",
              "      <td>2.012112e+07</td>\n",
              "      <td>2.284153e+07</td>\n",
              "      <td>6.314109e+06</td>\n",
              "      <td>1.779483e+06</td>\n",
              "      <td>2.357864e+07</td>\n",
              "      <td>5.213153e+06</td>\n",
              "      <td>1.203960e+07</td>\n",
              "      <td>1.234998e+07</td>\n",
              "    </tr>\n",
              "  </tbody>\n",
              "</table>\n",
              "<p>65 rows × 25 columns</p>\n",
              "</div>\n",
              "      <button class=\"colab-df-convert\" onclick=\"convertToInteractive('df-fcb10ee3-ce67-4ec9-8050-086883199332')\"\n",
              "              title=\"Convert this dataframe to an interactive table.\"\n",
              "              style=\"display:none;\">\n",
              "        \n",
              "  <svg xmlns=\"http://www.w3.org/2000/svg\" height=\"24px\"viewBox=\"0 0 24 24\"\n",
              "       width=\"24px\">\n",
              "    <path d=\"M0 0h24v24H0V0z\" fill=\"none\"/>\n",
              "    <path d=\"M18.56 5.44l.94 2.06.94-2.06 2.06-.94-2.06-.94-.94-2.06-.94 2.06-2.06.94zm-11 1L8.5 8.5l.94-2.06 2.06-.94-2.06-.94L8.5 2.5l-.94 2.06-2.06.94zm10 10l.94 2.06.94-2.06 2.06-.94-2.06-.94-.94-2.06-.94 2.06-2.06.94z\"/><path d=\"M17.41 7.96l-1.37-1.37c-.4-.4-.92-.59-1.43-.59-.52 0-1.04.2-1.43.59L10.3 9.45l-7.72 7.72c-.78.78-.78 2.05 0 2.83L4 21.41c.39.39.9.59 1.41.59.51 0 1.02-.2 1.41-.59l7.78-7.78 2.81-2.81c.8-.78.8-2.07 0-2.86zM5.41 20L4 18.59l7.72-7.72 1.47 1.35L5.41 20z\"/>\n",
              "  </svg>\n",
              "      </button>\n",
              "      \n",
              "  <style>\n",
              "    .colab-df-container {\n",
              "      display:flex;\n",
              "      flex-wrap:wrap;\n",
              "      gap: 12px;\n",
              "    }\n",
              "\n",
              "    .colab-df-convert {\n",
              "      background-color: #E8F0FE;\n",
              "      border: none;\n",
              "      border-radius: 50%;\n",
              "      cursor: pointer;\n",
              "      display: none;\n",
              "      fill: #1967D2;\n",
              "      height: 32px;\n",
              "      padding: 0 0 0 0;\n",
              "      width: 32px;\n",
              "    }\n",
              "\n",
              "    .colab-df-convert:hover {\n",
              "      background-color: #E2EBFA;\n",
              "      box-shadow: 0px 1px 2px rgba(60, 64, 67, 0.3), 0px 1px 3px 1px rgba(60, 64, 67, 0.15);\n",
              "      fill: #174EA6;\n",
              "    }\n",
              "\n",
              "    [theme=dark] .colab-df-convert {\n",
              "      background-color: #3B4455;\n",
              "      fill: #D2E3FC;\n",
              "    }\n",
              "\n",
              "    [theme=dark] .colab-df-convert:hover {\n",
              "      background-color: #434B5C;\n",
              "      box-shadow: 0px 1px 3px 1px rgba(0, 0, 0, 0.15);\n",
              "      filter: drop-shadow(0px 1px 2px rgba(0, 0, 0, 0.3));\n",
              "      fill: #FFFFFF;\n",
              "    }\n",
              "  </style>\n",
              "\n",
              "      <script>\n",
              "        const buttonEl =\n",
              "          document.querySelector('#df-fcb10ee3-ce67-4ec9-8050-086883199332 button.colab-df-convert');\n",
              "        buttonEl.style.display =\n",
              "          google.colab.kernel.accessAllowed ? 'block' : 'none';\n",
              "\n",
              "        async function convertToInteractive(key) {\n",
              "          const element = document.querySelector('#df-fcb10ee3-ce67-4ec9-8050-086883199332');\n",
              "          const dataTable =\n",
              "            await google.colab.kernel.invokeFunction('convertToInteractive',\n",
              "                                                     [key], {});\n",
              "          if (!dataTable) return;\n",
              "\n",
              "          const docLinkHtml = 'Like what you see? Visit the ' +\n",
              "            '<a target=\"_blank\" href=https://colab.research.google.com/notebooks/data_table.ipynb>data table notebook</a>'\n",
              "            + ' to learn more about interactive tables.';\n",
              "          element.innerHTML = '';\n",
              "          dataTable['output_type'] = 'display_data';\n",
              "          await google.colab.output.renderOutput(dataTable, element);\n",
              "          const docLink = document.createElement('div');\n",
              "          docLink.innerHTML = docLinkHtml;\n",
              "          element.appendChild(docLink);\n",
              "        }\n",
              "      </script>\n",
              "    </div>\n",
              "  </div>\n",
              "  "
            ]
          },
          "metadata": {},
          "execution_count": 4
        }
      ],
      "source": [
        "df= pd.read_csv('VentasTotales.csv')\n",
        "df"
      ]
    },
    {
      "cell_type": "code",
      "source": [
        "valores_nulos=df.isnull().sum()\n",
        "valores_nulos"
      ],
      "metadata": {
        "colab": {
          "base_uri": "https://localhost:8080/"
        },
        "id": "Hc7drAlCzg5q",
        "outputId": "4ece3b0c-cfce-4552-b60d-8ccf30238f77"
      },
      "execution_count": 5,
      "outputs": [
        {
          "output_type": "execute_result",
          "data": {
            "text/plain": [
              "Unnamed: 0                             0\n",
              "indice_tiempo                          0\n",
              "ventas_precios_corrientes              0\n",
              "ventas_precios_constantes              0\n",
              "ventas_totales_canal_venta             0\n",
              "salon_ventas                           0\n",
              "canales_on_line                        0\n",
              "ventas_totales_medio_pago              0\n",
              "efectivo                               0\n",
              "tarjetas_debito                        0\n",
              "tarjetas_credito                       0\n",
              "otros_medios                           0\n",
              "ventas_totales_grupo_articulos         0\n",
              "subtotal_ventas_alimentos_bebidas      0\n",
              "bebidas                                0\n",
              "almacen                                0\n",
              "panaderia                              0\n",
              "lacteos                                0\n",
              "carnes                                 0\n",
              "verduleria_fruteria                    0\n",
              "alimentos_preparados_rotiseria         0\n",
              "articulos_limpieza_perfumeria          0\n",
              "indumentaria_calzado_textiles_hogar    0\n",
              "electronicos_articulos_hogar           0\n",
              "otros                                  0\n",
              "dtype: int64"
            ]
          },
          "metadata": {},
          "execution_count": 5
        }
      ]
    },
    {
      "cell_type": "markdown",
      "source": [
        "## ventas_precios_corrientes"
      ],
      "metadata": {
        "id": "V6tq-fcz0eTh"
      }
    },
    {
      "cell_type": "code",
      "source": [
        "#Método aplicando desviación estandar. Encuentro los valores extremos\n",
        "y=df[\"ventas_precios_corrientes\"]\n",
        "Limite_Superior= y.mean() + 3*y.std()\n",
        "Limite_Inferior= y.mean() - 3*y.std()\n",
        "print(\"Limite superior permitido\", Limite_Superior)\n",
        "print(\"Limite inferior permitido\", Limite_Inferior)"
      ],
      "metadata": {
        "colab": {
          "base_uri": "https://localhost:8080/"
        },
        "id": "bacKkvUXzkVy",
        "outputId": "48a89413-bb56-4c12-cd9a-f998e242989a"
      },
      "execution_count": 48,
      "outputs": [
        {
          "output_type": "stream",
          "name": "stdout",
          "text": [
            "Limite superior permitido 214312.62398613384\n",
            "Limite inferior permitido -69832.22706305691\n"
          ]
        }
      ]
    },
    {
      "cell_type": "code",
      "source": [
        "#Encontramos outliers\n",
        "outliers_ventas_precios_corrientes = df['ventas_precios_corrientes'][(y>Limite_Superior)|(y<Limite_Inferior)]\n",
        "outliers_ventas_precios_corrientes"
      ],
      "metadata": {
        "colab": {
          "base_uri": "https://localhost:8080/"
        },
        "id": "OfWSsby82mC-",
        "outputId": "26b5653b-59dd-4c0d-cbd0-5fd9aed3d2fb"
      },
      "execution_count": 49,
      "outputs": [
        {
          "output_type": "execute_result",
          "data": {
            "text/plain": [
              "Series([], Name: ventas_precios_corrientes, dtype: float64)"
            ]
          },
          "metadata": {},
          "execution_count": 49
        }
      ]
    },
    {
      "cell_type": "code",
      "source": [
        "#Realizamos diagrama de caja o bigote\n",
        "fig = plt.figure(figsize =(5, 3))\n",
        "plt.boxplot(data_clean[\"ventas_precios_corrientes\"]) \n",
        "plt.title(\"ventas_precios_corrientes\")\n",
        "plt.show() #dibujamos el diagrama"
      ],
      "metadata": {
        "colab": {
          "base_uri": "https://localhost:8080/",
          "height": 334
        },
        "id": "bgeBEVY20Rm8",
        "outputId": "6f4eb571-dc4b-44db-a41c-06ef9b58094b"
      },
      "execution_count": null,
      "outputs": [
        {
          "output_type": "display_data",
          "data": {
            "text/plain": [
              "<Figure size 500x300 with 1 Axes>"
            ],
            "image/png": "[encoded data removed]"
          },
          "metadata": {}
        }
      ]
    },
    {
      "cell_type": "code",
      "source": [
        "#Método aplicando Cuartiles. Encuentro cuartiles 0.25 y 0.75\n",
        "y=df[\"ventas_precios_corrientes\"]\n",
        "\n",
        "percentile25=y.quantile(0.25) #Q1\n",
        "percentile75=y.quantile(0.75) #Q3\n",
        "iqr= percentile75 - percentile25\n",
        "\n",
        "Limite_Superior_iqr= percentile75 + 1.5*iqr\n",
        "Limite_Inferior_iqr= percentile25 - 1.5*iqr\n",
        "print(\"Limite superior permitido\", Limite_Superior_iqr)\n",
        "print(\"Limite inferior permitido\", Limite_Inferior_iqr)"
      ],
      "metadata": {
        "colab": {
          "base_uri": "https://localhost:8080/"
        },
        "id": "-hUmkqlc1Et2",
        "outputId": "038c3665-4580-4fcf-e44c-a2ca9e35cdef"
      },
      "execution_count": 53,
      "outputs": [
        {
          "output_type": "stream",
          "name": "stdout",
          "text": [
            "Limite superior permitido 192319.35000000003\n",
            "Limite inferior permitido -59178.650000000016\n"
          ]
        }
      ]
    },
    {
      "cell_type": "code",
      "source": [
        "outliers_iqr_ventas_precios_corrientes= df['ventas_precios_corrientes'][(y>Limite_Superior_iqr)|(y<Limite_Inferior_iqr)]\n",
        "outliers_iqr_ventas_precios_corrientes"
      ],
      "metadata": {
        "id": "tvHwjCU-1SF_",
        "colab": {
          "base_uri": "https://localhost:8080/"
        },
        "outputId": "0f635cf6-1aef-4374-af05-a662426b6fb3"
      },
      "execution_count": 54,
      "outputs": [
        {
          "output_type": "execute_result",
          "data": {
            "text/plain": [
              "42    211140.7\n",
              "Name: ventas_precios_corrientes, dtype: float64"
            ]
          },
          "metadata": {},
          "execution_count": 54
        }
      ]
    },
    {
      "cell_type": "code",
      "source": [
        "#Realizamos diagrama de caja o bigote\n",
        "fig = plt.figure(figsize =(5, 3))\n",
        "plt.boxplot(data_clean_iqr[\"ventas_precios_corrientes\"]) \n",
        "plt.title(\"Outliers de ventas_precios_corrientes\")\n",
        "plt.show() #dibujamos el diagrama"
      ],
      "metadata": {
        "colab": {
          "base_uri": "https://localhost:8080/",
          "height": 334
        },
        "id": "0FZugmGj1cJp",
        "outputId": "141aaf6b-6d50-4b21-8f40-a63f95ed5f49"
      },
      "execution_count": null,
      "outputs": [
        {
          "output_type": "display_data",
          "data": {
            "text/plain": [
              "<Figure size 500x300 with 1 Axes>"
            ],
            "image/png": "[encoded data removed]"
          },
          "metadata": {}
        }
      ]
    },
    {
      "cell_type": "markdown",
      "source": [
        "## ventas_precios_constantes`"
      ],
      "metadata": {
        "id": "gme039YW02WK"
      }
    },
    {
      "cell_type": "code",
      "source": [
        "#Método aplicando desviación estandar. Encuentro los valores extremos\n",
        "y=df[\"ventas_precios_constantes\"]\n",
        "Limite_Superior= y.mean() + 3*y.std()\n",
        "Limite_Inferior= y.mean() - 3*y.std()\n",
        "print(\"Limite superior permitido\", Limite_Superior)\n",
        "print(\"Limite inferior permitido\", Limite_Inferior)\n",
        "     "
      ],
      "metadata": {
        "colab": {
          "base_uri": "https://localhost:8080/"
        },
        "id": "oc4c7O-A15Om",
        "outputId": "d0be243d-c7a1-4800-da32-f08ae83d8d9c"
      },
      "execution_count": null,
      "outputs": [
        {
          "output_type": "stream",
          "name": "stdout",
          "text": [
            "Limite superior permitido 40022.90598479884\n",
            "Limite inferior permitido 12104.484784431932\n"
          ]
        }
      ]
    },
    {
      "cell_type": "code",
      "source": [
        "#Realizamos diagrama de caja o bigote\n",
        "fig = plt.figure(figsize =(5, 3))\n",
        "plt.boxplot(data_clean[\"ventas_precios_constantes\"]) \n",
        "plt.title(\"Outliers de ventas_precios_constantes\")\n",
        "plt.show() #dibujamos el diagrama"
      ],
      "metadata": {
        "colab": {
          "base_uri": "https://localhost:8080/",
          "height": 334
        },
        "id": "jGTnLkni3kjE",
        "outputId": "eb05b515-441c-4a95-bc86-248d3271d78b"
      },
      "execution_count": null,
      "outputs": [
        {
          "output_type": "display_data",
          "data": {
            "text/plain": [
              "<Figure size 500x300 with 1 Axes>"
            ],
            "image/png": "[encoded data removed]"
          },
          "metadata": {}
        }
      ]
    },
    {
      "cell_type": "code",
      "source": [
        "#Método aplicando Cuartiles. Encuentro cuartiles 0.25 y 0.75\n",
        "y=df[\"ventas_precios_constantes\"]\n",
        "\n",
        "percentile25=y.quantile(0.25) #Q1\n",
        "percentile75=y.quantile(0.75) #Q3\n",
        "iqr= percentile75 - percentile25\n",
        "\n",
        "Limite_Superior_iqr= percentile75 + 1.5*iqr\n",
        "Limite_Inferior_iqr= percentile25 - 1.5*iqr\n",
        "print(\"Limite superior permitido\", Limite_Superior_iqr)\n",
        "print(\"Limite inferior permitido\", Limite_Inferior_iqr)"
      ],
      "metadata": {
        "colab": {
          "base_uri": "https://localhost:8080/"
        },
        "id": "wz_4UCnd03ud",
        "outputId": "358c2ffa-97e3-4254-a23f-0c4f61386251"
      },
      "execution_count": 51,
      "outputs": [
        {
          "output_type": "stream",
          "name": "stdout",
          "text": [
            "Limite superior permitido 31938.75\n",
            "Limite inferior permitido 18759.949999999997\n"
          ]
        }
      ]
    },
    {
      "cell_type": "code",
      "source": [
        "outliers_iqr_ventas_precios_constantes= df['ventas_precios_constantes'][(y>Limite_Superior_iqr)|(y<Limite_Inferior_iqr)]\n",
        "outliers_iqr_ventas_precios_constantes"
      ],
      "metadata": {
        "colab": {
          "base_uri": "https://localhost:8080/"
        },
        "id": "vn5RkFXtcVfI",
        "outputId": "bfc4c924-6691-465b-df97-7fd407eacdd8"
      },
      "execution_count": 52,
      "outputs": [
        {
          "output_type": "execute_result",
          "data": {
            "text/plain": [
              "11    34084.5\n",
              "42    50791.4\n",
              "60    45463.4\n",
              "Name: ventas_precios_constantes, dtype: float64"
            ]
          },
          "metadata": {},
          "execution_count": 52
        }
      ]
    },
    {
      "cell_type": "code",
      "source": [
        "#Realizamos diagrama de caja o bigote\n",
        "fig = plt.figure(figsize =(5, 3))\n",
        "plt.boxplot(data_clean_iqr[\"ventas_precios_constantes\"]) \n",
        "plt.title(\"Outliers de ventas_precios_constantes\")\n",
        "plt.show() #dibujamos el diagrama "
      ],
      "metadata": {
        "colab": {
          "base_uri": "https://localhost:8080/",
          "height": 334
        },
        "id": "KAy0RB7732wo",
        "outputId": "ad763474-4c88-49d4-f448-1778d00e3cb0"
      },
      "execution_count": null,
      "outputs": [
        {
          "output_type": "display_data",
          "data": {
            "text/plain": [
              "<Figure size 500x300 with 1 Axes>"
            ],
            "image/png": "[encoded data removed]"
          },
          "metadata": {}
        }
      ]
    },
    {
      "cell_type": "markdown",
      "source": [
        "## ventas_totales_canal_venta"
      ],
      "metadata": {
        "id": "D6lTCGeW4HOm"
      }
    },
    {
      "cell_type": "code",
      "source": [
        "y=df[\"ventas_totales_canal_venta\"]\n",
        "Limite_Superior= y.mean() + 3*y.std()\n",
        "Limite_Inferior= y.mean() - 3*y.std()\n",
        "print(\"Limite superior permitido\", Limite_Superior)\n",
        "print(\"Limite inferior permitido\", Limite_Inferior)"
      ],
      "metadata": {
        "colab": {
          "base_uri": "https://localhost:8080/"
        },
        "id": "eszo_GnB4JME",
        "outputId": "dc46fa17-7fb8-4969-c73f-a9c6531f0b38"
      },
      "execution_count": 17,
      "outputs": [
        {
          "output_type": "stream",
          "name": "stdout",
          "text": [
            "Limite superior permitido 207440738.1500299\n",
            "Limite inferior permitido -59963939.482473865\n"
          ]
        }
      ]
    },
    {
      "cell_type": "code",
      "source": [
        "#Encontramos Ouliers\n",
        "outliers_ventas_totales_canal_venta = df['ventas_totales_canal_venta'][(y>Limite_Superior)|(y<Limite_Inferior)]\n",
        "outliers_ventas_totales_canal_venta"
      ],
      "metadata": {
        "colab": {
          "base_uri": "https://localhost:8080/"
        },
        "id": "m8Apu5VFAEdE",
        "outputId": "27a5b34b-5cae-4d6a-f4a9-436bc3d3e28f"
      },
      "execution_count": 20,
      "outputs": [
        {
          "output_type": "execute_result",
          "data": {
            "text/plain": [
              "Series([], Name: ventas_totales_canal_venta, dtype: float64)"
            ]
          },
          "metadata": {},
          "execution_count": 20
        }
      ]
    },
    {
      "cell_type": "code",
      "source": [
        "#Realizamos diagrama de caja o bigote\n",
        "fig = plt.figure(figsize =(5, 3))\n",
        "plt.boxplot(data_clean[\"ventas_totales_canal_venta\"]) \n",
        "plt.title(\"Outliers de ventas_totales_canal_venta\")\n",
        "plt.show() #dibujamos el diagrama"
      ],
      "metadata": {
        "colab": {
          "base_uri": "https://localhost:8080/",
          "height": 334
        },
        "id": "A1PqOMX-4ztq",
        "outputId": "740c47af-d97d-4d70-cfa7-826a42b7df2f"
      },
      "execution_count": null,
      "outputs": [
        {
          "output_type": "display_data",
          "data": {
            "text/plain": [
              "<Figure size 500x300 with 1 Axes>"
            ],
            "image/png": "[encoded data removed]"
          },
          "metadata": {}
        }
      ]
    },
    {
      "cell_type": "code",
      "source": [
        "#Método aplicando Cuartiles. Encuentro cuartiles 0.25 y 0.75\n",
        "y=df[\"ventas_totales_canal_venta\"]\n",
        "\n",
        "percentile25=y.quantile(0.25) #Q1\n",
        "percentile75=y.quantile(0.75) #Q3\n",
        "iqr= percentile75 - percentile25\n",
        "\n",
        "Limite_Superior_iqr= percentile75 + 1.5*iqr\n",
        "Limite_Inferior_iqr= percentile25 - 1.5*iqr\n",
        "print(\"Limite superior permitido\", Limite_Superior_iqr)\n",
        "print(\"Limite inferior permitido\", Limite_Inferior_iqr)"
      ],
      "metadata": {
        "colab": {
          "base_uri": "https://localhost:8080/"
        },
        "id": "GuXLZFa_5To6",
        "outputId": "a44380fe-7c50-4a59-9faa-9a99f8135049"
      },
      "execution_count": null,
      "outputs": [
        {
          "output_type": "stream",
          "name": "stdout",
          "text": [
            "Limite superior permitido 187511643.5\n",
            "Limite inferior permitido -51165850.5\n"
          ]
        }
      ]
    },
    {
      "cell_type": "code",
      "source": [
        "outliers_iqr_ventas_totales_canal_venta= df['ventas_totales_canal_venta'][(y>Limite_Superior_iqr)|(y<Limite_Inferior_iqr)]\n",
        "outliers_iqr_ventas_totales_canal_venta"
      ],
      "metadata": {
        "colab": {
          "base_uri": "https://localhost:8080/"
        },
        "id": "mLHahNS4BI3I",
        "outputId": "48ca11d1-fb1c-42d8-9132-43caf3422cc7"
      },
      "execution_count": 22,
      "outputs": [
        {
          "output_type": "execute_result",
          "data": {
            "text/plain": [
              "0     2.785887e+07\n",
              "1     2.599420e+07\n",
              "2     2.778001e+07\n",
              "3     2.913427e+07\n",
              "4     2.796900e+07\n",
              "          ...     \n",
              "60    1.545171e+08\n",
              "61    1.522026e+08\n",
              "62    1.689825e+08\n",
              "63    1.771481e+08\n",
              "64    1.796392e+08\n",
              "Name: ventas_totales_canal_venta, Length: 64, dtype: float64"
            ]
          },
          "metadata": {},
          "execution_count": 22
        }
      ]
    },
    {
      "cell_type": "code",
      "source": [
        "#Realizamos diagrama de caja o bigote\n",
        "fig = plt.figure(figsize =(5, 3))\n",
        "plt.boxplot(data_clean_iqr[\"ventas_totales_canal_venta\"]) \n",
        "plt.title(\"Outliers de ventas_totales_canal_venta\")\n",
        "plt.show() #dibujamos el diagrama "
      ],
      "metadata": {
        "colab": {
          "base_uri": "https://localhost:8080/",
          "height": 334
        },
        "id": "iSWvjLCb5j5y",
        "outputId": "b9dfb939-2069-4020-cc9e-74708392bf0d"
      },
      "execution_count": null,
      "outputs": [
        {
          "output_type": "display_data",
          "data": {
            "text/plain": [
              "<Figure size 500x300 with 1 Axes>"
            ],
            "image/png": "[encoded data removed]"
          },
          "metadata": {}
        }
      ]
    },
    {
      "cell_type": "markdown",
      "source": [
        "## salon_ventas"
      ],
      "metadata": {
        "id": "-z7YNlkF5vWE"
      }
    },
    {
      "cell_type": "code",
      "source": [
        "y=df[\"salon_ventas\"]\n",
        "Limite_Superior= y.mean() + 3*y.std()\n",
        "Limite_Inferior= y.mean() - 3*y.std()\n",
        "print(\"Limite superior permitido\", Limite_Superior)\n",
        "print(\"Limite inferior permitido\", Limite_Inferior)"
      ],
      "metadata": {
        "colab": {
          "base_uri": "https://localhost:8080/"
        },
        "id": "WuWHTZUo5wzO",
        "outputId": "c921078e-2d6c-4aa6-ac07-f4970149b4b7"
      },
      "execution_count": null,
      "outputs": [
        {
          "output_type": "stream",
          "name": "stdout",
          "text": [
            "Limite superior permitido 197606560.2425\n",
            "Limite inferior permitido -45934387.42188464\n"
          ]
        }
      ]
    },
    {
      "cell_type": "code",
      "source": [
        "#Realizamos diagrama de caja o bigote\n",
        "fig = plt.figure(figsize =(5, 3))\n",
        "plt.boxplot(data_clean[\"salon_ventas\"]) \n",
        "plt.title(\"Outliers de salon_ventas\")\n",
        "plt.show() #dibujamos el diagrama"
      ],
      "metadata": {
        "colab": {
          "base_uri": "https://localhost:8080/",
          "height": 334
        },
        "id": "Vju3o4ku53ev",
        "outputId": "c5435f40-2e54-4e89-83aa-9b908c9f01f0"
      },
      "execution_count": null,
      "outputs": [
        {
          "output_type": "display_data",
          "data": {
            "text/plain": [
              "<Figure size 500x300 with 1 Axes>"
            ],
            "image/png": "[encoded data removed]"
          },
          "metadata": {}
        }
      ]
    },
    {
      "cell_type": "code",
      "source": [
        "#Método aplicando Cuartiles. Encuentro cuartiles 0.25 y 0.75\n",
        "y=df[\"salon_ventas\"]\n",
        "\n",
        "percentile25=y.quantile(0.25) #Q1\n",
        "percentile75=y.quantile(0.75) #Q3\n",
        "iqr= percentile75 - percentile25\n",
        "\n",
        "Limite_Superior_iqr= percentile75 + 1.5*iqr\n",
        "Limite_Inferior_iqr= percentile25 - 1.5*iqr\n",
        "print(\"Limite superior permitido\", Limite_Superior_iqr)\n",
        "print(\"Limite inferior permitido\", Limite_Inferior_iqr)"
      ],
      "metadata": {
        "colab": {
          "base_uri": "https://localhost:8080/"
        },
        "id": "q2Cmaj5F5_uG",
        "outputId": "477ab06d-427f-4498-9010-9ce7b8338d96"
      },
      "execution_count": 23,
      "outputs": [
        {
          "output_type": "stream",
          "name": "stdout",
          "text": [
            "Limite superior permitido 170440082.58499998\n",
            "Limite inferior permitido -32001350.254999995\n"
          ]
        }
      ]
    },
    {
      "cell_type": "code",
      "source": [
        "outliers_iqr_salon_ventas= df['salon_ventas'][(y>Limite_Superior_iqr)|(y<Limite_Inferior_iqr)]\n",
        "outliers_iqr_salon_ventas"
      ],
      "metadata": {
        "colab": {
          "base_uri": "https://localhost:8080/"
        },
        "id": "vBoOLoyYZY9Z",
        "outputId": "43062c3d-cbf2-4868-8ee2-f60e54017cf4"
      },
      "execution_count": 24,
      "outputs": [
        {
          "output_type": "execute_result",
          "data": {
            "text/plain": [
              "59    178866721.2\n",
              "63    173003799.1\n",
              "64    175358487.5\n",
              "Name: salon_ventas, dtype: float64"
            ]
          },
          "metadata": {},
          "execution_count": 24
        }
      ]
    },
    {
      "cell_type": "code",
      "source": [
        "#Realizamos diagrama de caja o bigote\n",
        "fig = plt.figure(figsize =(5, 3))\n",
        "plt.boxplot(data_clean_iqr[\"salon_ventas\"]) \n",
        "plt.title(\"Outliers de salon_ventas\")\n",
        "plt.show() #dibujamos el diagrama "
      ],
      "metadata": {
        "colab": {
          "base_uri": "https://localhost:8080/",
          "height": 334
        },
        "id": "g7pmTnS76Etp",
        "outputId": "fbccdbf3-4b5e-4c69-bd49-af3d1e439dca"
      },
      "execution_count": null,
      "outputs": [
        {
          "output_type": "display_data",
          "data": {
            "text/plain": [
              "<Figure size 500x300 with 1 Axes>"
            ],
            "image/png": "[encoded data removed]"
          },
          "metadata": {}
        }
      ]
    },
    {
      "cell_type": "markdown",
      "source": [
        "## canales_on_line NO HAY OUTLIERS"
      ],
      "metadata": {
        "id": "lNgxz9XD6LRK"
      }
    },
    {
      "cell_type": "code",
      "source": [
        "y=df[\"canales_on_line\"]\n",
        "Limite_Superior= y.mean() + 3*y.std()\n",
        "Limite_Inferior= y.mean() - 3*y.std()\n",
        "print(\"Limite superior permitido\", Limite_Superior)\n",
        "print(\"Limite inferior permitido\", Limite_Inferior)"
      ],
      "metadata": {
        "colab": {
          "base_uri": "https://localhost:8080/"
        },
        "id": "LaYeOYec6S1D",
        "outputId": "fc7a395a-6e63-40e2-c407-dec4ce6b71b6"
      },
      "execution_count": null,
      "outputs": [
        {
          "output_type": "stream",
          "name": "stdout",
          "text": [
            "Limite superior permitido 7623053.091870596\n",
            "Limite inferior permitido -3467249.0753690572\n"
          ]
        }
      ]
    },
    {
      "cell_type": "code",
      "source": [
        "#Realizamos diagrama de caja o bigote\n",
        "fig = plt.figure(figsize =(5, 3))\n",
        "plt.boxplot(data_clean[\"canales_on_line\"]) \n",
        "plt.title(\"Outliers de canales_on_line\")\n",
        "plt.show() #dibujamos el diagrama"
      ],
      "metadata": {
        "colab": {
          "base_uri": "https://localhost:8080/",
          "height": 334
        },
        "id": "MgcAI95p6ZxX",
        "outputId": "b3f43f47-1a52-44c6-a302-e74f98b2bd07"
      },
      "execution_count": null,
      "outputs": [
        {
          "output_type": "display_data",
          "data": {
            "text/plain": [
              "<Figure size 500x300 with 1 Axes>"
            ],
            "image/png": "[encoded data removed]"
          },
          "metadata": {}
        }
      ]
    },
    {
      "cell_type": "code",
      "source": [
        "#Método aplicando Cuartiles. Encuentro cuartiles 0.25 y 0.75\n",
        "y=df[\"canales_on_line\"]\n",
        "\n",
        "percentile25=y.quantile(0.25) #Q1\n",
        "percentile75=y.quantile(0.75) #Q3\n",
        "iqr= percentile75 - percentile25\n",
        "\n",
        "Limite_Superior_iqr= percentile75 + 1.5*iqr\n",
        "Limite_Inferior_iqr= percentile25 - 1.5*iqr\n",
        "print(\"Limite superior permitido\", Limite_Superior_iqr)\n",
        "print(\"Limite inferior permitido\", Limite_Inferior_iqr)"
      ],
      "metadata": {
        "colab": {
          "base_uri": "https://localhost:8080/"
        },
        "id": "w6jg9VAk6gBS",
        "outputId": "9f3fc776-6b55-4793-97de-21660f26765c"
      },
      "execution_count": null,
      "outputs": [
        {
          "output_type": "stream",
          "name": "stdout",
          "text": [
            "Limite superior permitido 9196780.92675\n",
            "Limite inferior permitido -4707517.02725\n"
          ]
        }
      ]
    },
    {
      "cell_type": "code",
      "source": [
        "#Realizamos diagrama de caja o bigote\n",
        "fig = plt.figure(figsize =(5, 3))\n",
        "plt.boxplot(data_clean_iqr[\"canales_on_line\"]) \n",
        "plt.title(\"Outliers de canales_on_line\")\n",
        "plt.show() #dibujamos el diagrama "
      ],
      "metadata": {
        "colab": {
          "base_uri": "https://localhost:8080/",
          "height": 334
        },
        "id": "o53OqI-V6mk8",
        "outputId": "641d5f12-a91b-43fb-d314-595d957c9ce8"
      },
      "execution_count": null,
      "outputs": [
        {
          "output_type": "display_data",
          "data": {
            "text/plain": [
              "<Figure size 500x300 with 1 Axes>"
            ],
            "image/png": "[encoded data removed]"
          },
          "metadata": {}
        }
      ]
    },
    {
      "cell_type": "markdown",
      "source": [
        "## ventas_totales_medio_pago"
      ],
      "metadata": {
        "id": "IAIfsq146tny"
      }
    },
    {
      "cell_type": "code",
      "source": [
        "y=df[\"ventas_totales_medio_pago\"]\n",
        "Limite_Superior= y.mean() + 3*y.std()\n",
        "Limite_Inferior= y.mean() - 3*y.std()\n",
        "print(\"Limite superior permitido\", Limite_Superior)\n",
        "print(\"Limite inferior permitido\", Limite_Inferior)"
      ],
      "metadata": {
        "colab": {
          "base_uri": "https://localhost:8080/"
        },
        "id": "VF9hInLM67-U",
        "outputId": "1eb8d4c0-529d-4118-e97d-66a78bb6a0f2"
      },
      "execution_count": null,
      "outputs": [
        {
          "output_type": "stream",
          "name": "stdout",
          "text": [
            "Limite superior permitido 205953106.93160364\n",
            "Limite inferior permitido -57477046.72544977\n"
          ]
        }
      ]
    },
    {
      "cell_type": "code",
      "source": [
        "#Realizamos diagrama de caja o bigote\n",
        "fig = plt.figure(figsize =(5, 3))\n",
        "plt.boxplot(data_clean[\"ventas_totales_medio_pago\"]) \n",
        "plt.title(\"Outliers de ventas_totales_medio_pago\")\n",
        "plt.show() #dibujamos el diagrama"
      ],
      "metadata": {
        "colab": {
          "base_uri": "https://localhost:8080/",
          "height": 334
        },
        "id": "PQtlaMXA7Fpo",
        "outputId": "32823dc0-4e5b-44d9-c39b-51673952e556"
      },
      "execution_count": null,
      "outputs": [
        {
          "output_type": "display_data",
          "data": {
            "text/plain": [
              "<Figure size 500x300 with 1 Axes>"
            ],
            "image/png": "[encoded data removed]"
          },
          "metadata": {}
        }
      ]
    },
    {
      "cell_type": "code",
      "source": [
        "#Método aplicando Cuartiles. Encuentro cuartiles 0.25 y 0.75\n",
        "y=df[\"ventas_totales_medio_pago\"]\n",
        "\n",
        "percentile25=y.quantile(0.25) #Q1\n",
        "percentile75=y.quantile(0.75) #Q3\n",
        "iqr= percentile75 - percentile25\n",
        "\n",
        "Limite_Superior_iqr= percentile75 + 1.5*iqr\n",
        "Limite_Inferior_iqr= percentile25 - 1.5*iqr\n",
        "print(\"Limite superior permitido\", Limite_Superior_iqr)\n",
        "print(\"Limite inferior permitido\", Limite_Inferior_iqr)"
      ],
      "metadata": {
        "colab": {
          "base_uri": "https://localhost:8080/"
        },
        "id": "S8QO_S4_7KuZ",
        "outputId": "11158e08-d51f-4919-8374-4f3f59cf4020"
      },
      "execution_count": null,
      "outputs": [
        {
          "output_type": "stream",
          "name": "stdout",
          "text": [
            "Limite superior permitido 187511643.5\n",
            "Limite inferior permitido -51165850.5\n"
          ]
        }
      ]
    },
    {
      "cell_type": "code",
      "source": [
        "outliers_iqr_ventas_totales_medio_pago= df['ventas_totales_medio_pago'][(y>Limite_Superior_iqr)|(y<Limite_Inferior_iqr)]\n",
        "outliers_iqr_ventas_totales_medio_pago"
      ],
      "metadata": {
        "colab": {
          "base_uri": "https://localhost:8080/"
        },
        "id": "pzjllOIKZo-r",
        "outputId": "a6cbfa3f-b259-4d73-ce82-71924d006b9d"
      },
      "execution_count": 25,
      "outputs": [
        {
          "output_type": "execute_result",
          "data": {
            "text/plain": [
              "59    183983151.9\n",
              "63    177148082.8\n",
              "64    179639238.6\n",
              "Name: ventas_totales_medio_pago, dtype: float64"
            ]
          },
          "metadata": {},
          "execution_count": 25
        }
      ]
    },
    {
      "cell_type": "code",
      "source": [
        "#Realizamos diagrama de caja o bigote\n",
        "fig = plt.figure(figsize =(5, 3))\n",
        "plt.boxplot(data_clean_iqr[\"ventas_totales_medio_pago\"]) \n",
        "plt.title(\"Outliers de ventas_totales_medio_pago\")\n",
        "plt.show() #dibujamos el diagrama "
      ],
      "metadata": {
        "colab": {
          "base_uri": "https://localhost:8080/",
          "height": 334
        },
        "id": "UWuougcP7TiZ",
        "outputId": "88a20e2a-593d-42e1-895c-6c1b0aead3c2"
      },
      "execution_count": null,
      "outputs": [
        {
          "output_type": "display_data",
          "data": {
            "text/plain": [
              "<Figure size 500x300 with 1 Axes>"
            ],
            "image/png": "[encoded data removed]"
          },
          "metadata": {}
        }
      ]
    },
    {
      "cell_type": "markdown",
      "source": [
        "## canales_on_line NO TIENE OUTLIERS"
      ],
      "metadata": {
        "id": "bvtUlcMq7hG7"
      }
    },
    {
      "cell_type": "code",
      "source": [
        "y=df[\"canales_on_line\"]\n",
        "Limite_Superior= y.mean() + 3*y.std()\n",
        "Limite_Inferior= y.mean() - 3*y.std()\n",
        "print(\"Limite superior permitido\", Limite_Superior)\n",
        "print(\"Limite inferior permitido\", Limite_Inferior)"
      ],
      "metadata": {
        "colab": {
          "base_uri": "https://localhost:8080/"
        },
        "id": "8gho0foF7qRx",
        "outputId": "16829c3e-e563-4c0e-8e0e-61a8418a0ec5"
      },
      "execution_count": null,
      "outputs": [
        {
          "output_type": "stream",
          "name": "stdout",
          "text": [
            "Limite superior permitido 7623053.091870596\n",
            "Limite inferior permitido -3467249.0753690572\n"
          ]
        }
      ]
    },
    {
      "cell_type": "code",
      "source": [
        "#Realizamos diagrama de caja o bigote\n",
        "fig = plt.figure(figsize =(5, 3))\n",
        "plt.boxplot(data_clean[\"canales_on_line\"]) \n",
        "plt.title(\"Outliers de canales_on_line\")\n",
        "plt.show() #dibujamos el diagrama"
      ],
      "metadata": {
        "colab": {
          "base_uri": "https://localhost:8080/",
          "height": 334
        },
        "id": "n-4jqC1d70fk",
        "outputId": "3d25366c-ca94-43de-a962-451d8a03b768"
      },
      "execution_count": null,
      "outputs": [
        {
          "output_type": "display_data",
          "data": {
            "text/plain": [
              "<Figure size 500x300 with 1 Axes>"
            ],
            "image/png": "[encoded data removed]"
          },
          "metadata": {}
        }
      ]
    },
    {
      "cell_type": "code",
      "source": [
        "#Método aplicando Cuartiles. Encuentro cuartiles 0.25 y 0.75\n",
        "y=df[\"canales_on_line\"]\n",
        "\n",
        "percentile25=y.quantile(0.25) #Q1\n",
        "percentile75=y.quantile(0.75) #Q3\n",
        "iqr= percentile75 - percentile25\n",
        "\n",
        "Limite_Superior_iqr= percentile75 + 1.5*iqr\n",
        "Limite_Inferior_iqr= percentile25 - 1.5*iqr\n",
        "print(\"Limite superior permitido\", Limite_Superior_iqr)\n",
        "print(\"Limite inferior permitido\", Limite_Inferior_iqr)"
      ],
      "metadata": {
        "colab": {
          "base_uri": "https://localhost:8080/"
        },
        "id": "kW5-Vn3177We",
        "outputId": "1d86d3fa-cef4-4d32-dcac-90a52b302c93"
      },
      "execution_count": null,
      "outputs": [
        {
          "output_type": "stream",
          "name": "stdout",
          "text": [
            "Limite superior permitido 9196780.92675\n",
            "Limite inferior permitido -4707517.02725\n"
          ]
        }
      ]
    },
    {
      "cell_type": "code",
      "source": [
        "#Realizamos diagrama de caja o bigote\n",
        "fig = plt.figure(figsize =(5, 3))\n",
        "plt.boxplot(data_clean_iqr[\"canales_on_line\"]) \n",
        "plt.title(\"Outliers de canales_on_line\")\n",
        "plt.show() #dibujamos el diagrama "
      ],
      "metadata": {
        "colab": {
          "base_uri": "https://localhost:8080/",
          "height": 335
        },
        "id": "fV6u0SXZ8DpN",
        "outputId": "1e4bfd7c-f6dd-4ce9-e710-8bb090d2fbac"
      },
      "execution_count": null,
      "outputs": [
        {
          "output_type": "display_data",
          "data": {
            "text/plain": [
              "<Figure size 500x300 with 1 Axes>"
            ],
            "image/png": "[encoded data removed]"
          },
          "metadata": {}
        }
      ]
    },
    {
      "cell_type": "markdown",
      "source": [
        "## efectivo NO HAY OUTLIERS"
      ],
      "metadata": {
        "id": "dVD2o1hM8VtO"
      }
    },
    {
      "cell_type": "code",
      "source": [
        "y=df[\"efectivo\"]\n",
        "Limite_Superior= y.mean() + 3*y.std()\n",
        "Limite_Inferior= y.mean() - 3*y.std()\n",
        "print(\"Limite superior permitido\", Limite_Superior)\n",
        "print(\"Limite inferior permitido\", Limite_Inferior)"
      ],
      "metadata": {
        "colab": {
          "base_uri": "https://localhost:8080/"
        },
        "id": "pIsXlLe38gPz",
        "outputId": "5cabacb4-b4f8-4cdc-aa4a-17c3224f74cf"
      },
      "execution_count": null,
      "outputs": [
        {
          "output_type": "stream",
          "name": "stdout",
          "text": [
            "Limite superior permitido 61911595.63423146\n",
            "Limite inferior permitido -14342695.590508386\n"
          ]
        }
      ]
    },
    {
      "cell_type": "code",
      "source": [
        "#Realizamos diagrama de caja o bigote\n",
        "fig = plt.figure(figsize =(5, 3))\n",
        "plt.boxplot(data_clean[\"efectivo\"]) \n",
        "plt.title(\"Outliers de efectivo\")\n",
        "plt.show() #dibujamos el diagrama"
      ],
      "metadata": {
        "colab": {
          "base_uri": "https://localhost:8080/",
          "height": 334
        },
        "id": "g7os4YbT9uJS",
        "outputId": "d34ff40b-f88d-4ba5-d163-ca52e2f9b3d6"
      },
      "execution_count": null,
      "outputs": [
        {
          "output_type": "display_data",
          "data": {
            "text/plain": [
              "<Figure size 500x300 with 1 Axes>"
            ],
            "image/png": "[encoded data removed]"
          },
          "metadata": {}
        }
      ]
    },
    {
      "cell_type": "code",
      "source": [
        "#Método aplicando Cuartiles. Encuentro cuartiles 0.25 y 0.75\n",
        "y=df[\"efectivo\"]\n",
        "\n",
        "percentile25=y.quantile(0.25) #Q1\n",
        "percentile75=y.quantile(0.75) #Q3\n",
        "iqr= percentile75 - percentile25\n",
        "\n",
        "Limite_Superior_iqr= percentile75 + 1.5*iqr\n",
        "Limite_Inferior_iqr= percentile25 - 1.5*iqr\n",
        "print(\"Limite superior permitido\", Limite_Superior_iqr)\n",
        "print(\"Limite inferior permitido\", Limite_Inferior_iqr)"
      ],
      "metadata": {
        "colab": {
          "base_uri": "https://localhost:8080/"
        },
        "id": "sVY1udtT92Bx",
        "outputId": "2d4c4972-8617-40ee-f2a2-b73038e1594e"
      },
      "execution_count": null,
      "outputs": [
        {
          "output_type": "stream",
          "name": "stdout",
          "text": [
            "Limite superior permitido 59420215.78999999\n",
            "Limite inferior permitido -14024584.689999996\n"
          ]
        }
      ]
    },
    {
      "cell_type": "code",
      "source": [
        "#Realizamos diagrama de caja o bigote\n",
        "fig = plt.figure(figsize =(5, 3))\n",
        "plt.boxplot(data_clean_iqr[\"efectivo\"]) \n",
        "plt.title(\"Outliers de efectivo\")\n",
        "plt.show() #dibujamos el diagrama "
      ],
      "metadata": {
        "colab": {
          "base_uri": "https://localhost:8080/",
          "height": 335
        },
        "id": "DpqT_LVs98JE",
        "outputId": "2f4bf67c-395f-47bc-a4a4-272d937ff3e4"
      },
      "execution_count": null,
      "outputs": [
        {
          "output_type": "display_data",
          "data": {
            "text/plain": [
              "<Figure size 500x300 with 1 Axes>"
            ],
            "image/png": "[encoded data removed]"
          },
          "metadata": {}
        }
      ]
    },
    {
      "cell_type": "markdown",
      "source": [
        "## tarjetas_debito"
      ],
      "metadata": {
        "id": "M6c_UnNZ-L2_"
      }
    },
    {
      "cell_type": "code",
      "source": [
        "y=df[\"tarjetas_debito\"]\n",
        "Limite_Superior= y.mean() + 3*y.std()\n",
        "Limite_Inferior= y.mean() - 3*y.std()\n",
        "print(\"Limite superior permitido\", Limite_Superior)\n",
        "print(\"Limite inferior permitido\", Limite_Inferior)"
      ],
      "metadata": {
        "colab": {
          "base_uri": "https://localhost:8080/"
        },
        "id": "LEbGgUlv-LVc",
        "outputId": "f7339f51-e024-418c-a4be-091b8d7d7fc8"
      },
      "execution_count": null,
      "outputs": [
        {
          "output_type": "stream",
          "name": "stdout",
          "text": [
            "Limite superior permitido 58179494.9472643\n",
            "Limite inferior permitido -18390283.63738738\n"
          ]
        }
      ]
    },
    {
      "cell_type": "code",
      "source": [
        "#Realizamos diagrama de caja o bigote\n",
        "fig = plt.figure(figsize =(5, 3))\n",
        "plt.boxplot(data_clean[\"tarjetas_debito\"]) \n",
        "plt.title(\"Outliers de tarjetas_debito\")\n",
        "plt.show() #dibujamos el diagrama"
      ],
      "metadata": {
        "colab": {
          "base_uri": "https://localhost:8080/",
          "height": 334
        },
        "id": "uerJZFzY-Wut",
        "outputId": "ed1a31d3-87c5-4a6f-a398-d1251488e60e"
      },
      "execution_count": null,
      "outputs": [
        {
          "output_type": "display_data",
          "data": {
            "text/plain": [
              "<Figure size 500x300 with 1 Axes>"
            ],
            "image/png": "[encoded data removed]"
          },
          "metadata": {}
        }
      ]
    },
    {
      "cell_type": "code",
      "source": [
        "#Método aplicando Cuartiles. Encuentro cuartiles 0.25 y 0.75\n",
        "y=df[\"tarjetas_debito\"]\n",
        "\n",
        "percentile25=y.quantile(0.25) #Q1\n",
        "percentile75=y.quantile(0.75) #Q3\n",
        "iqr= percentile75 - percentile25\n",
        "\n",
        "Limite_Superior_iqr= percentile75 + 1.5*iqr\n",
        "Limite_Inferior_iqr= percentile25 - 1.5*iqr\n",
        "print(\"Limite superior permitido\", Limite_Superior_iqr)\n",
        "print(\"Limite inferior permitido\", Limite_Inferior_iqr)"
      ],
      "metadata": {
        "colab": {
          "base_uri": "https://localhost:8080/"
        },
        "id": "XXeRnrcG-dEe",
        "outputId": "ad36d365-38cc-464d-9f49-0a64dad5fa84"
      },
      "execution_count": 26,
      "outputs": [
        {
          "output_type": "stream",
          "name": "stdout",
          "text": [
            "Limite superior permitido 50952216.5835\n",
            "Limite inferior permitido -15349161.052499998\n"
          ]
        }
      ]
    },
    {
      "cell_type": "code",
      "source": [
        "outliers_iqr_tarjetas_debito= df['tarjetas_debito'][(y>Limite_Superior_iqr)|(y<Limite_Inferior_iqr)]\n",
        "outliers_iqr_tarjetas_debito"
      ],
      "metadata": {
        "colab": {
          "base_uri": "https://localhost:8080/"
        },
        "id": "8LmF2b7ZZ-F2",
        "outputId": "a797b808-496c-4081-f8b2-1c1bce559713"
      },
      "execution_count": 27,
      "outputs": [
        {
          "output_type": "execute_result",
          "data": {
            "text/plain": [
              "59    55432191.37\n",
              "Name: tarjetas_debito, dtype: float64"
            ]
          },
          "metadata": {},
          "execution_count": 27
        }
      ]
    },
    {
      "cell_type": "code",
      "source": [
        "#Realizamos diagrama de caja o bigote\n",
        "fig = plt.figure(figsize =(5, 3))\n",
        "plt.boxplot(data_clean_iqr[\"tarjetas_debito\"]) \n",
        "plt.title(\"Outliers de tarjetas_debito\")\n",
        "plt.show() #dibujamos el diagrama "
      ],
      "metadata": {
        "colab": {
          "base_uri": "https://localhost:8080/",
          "height": 335
        },
        "id": "kvD5PllZ-lD1",
        "outputId": "a577ad04-e763-45e9-f7c1-3c1fac342b30"
      },
      "execution_count": null,
      "outputs": [
        {
          "output_type": "display_data",
          "data": {
            "text/plain": [
              "<Figure size 500x300 with 1 Axes>"
            ],
            "image/png": "[encoded data removed]"
          },
          "metadata": {}
        }
      ]
    },
    {
      "cell_type": "markdown",
      "source": [
        "## tarjetas_credito"
      ],
      "metadata": {
        "id": "2jvIRVbK-xwe"
      }
    },
    {
      "cell_type": "code",
      "source": [
        "y=df[\"tarjetas_credito\"]\n",
        "Limite_Superior= y.mean() + 3*y.std()\n",
        "Limite_Inferior= y.mean() - 3*y.std()\n",
        "print(\"Limite superior permitido\", Limite_Superior)\n",
        "print(\"Limite inferior permitido\", Limite_Inferior)"
      ],
      "metadata": {
        "colab": {
          "base_uri": "https://localhost:8080/"
        },
        "id": "XQ_ZKaKD-zqE",
        "outputId": "db2a67f2-1a58-4177-940c-4f2dcbd861f9"
      },
      "execution_count": null,
      "outputs": [
        {
          "output_type": "stream",
          "name": "stdout",
          "text": [
            "Limite superior permitido 72217546.59115914\n",
            "Limite inferior permitido -17886155.90322068\n"
          ]
        }
      ]
    },
    {
      "cell_type": "code",
      "source": [
        "#Realizamos diagrama de caja o bigote\n",
        "fig = plt.figure(figsize =(5, 3))\n",
        "plt.boxplot(data_clean[\"tarjetas_credito\"]) \n",
        "plt.title(\"Outliers de tarjetas_credito\")\n",
        "plt.show() #dibujamos el diagrama"
      ],
      "metadata": {
        "colab": {
          "base_uri": "https://localhost:8080/",
          "height": 334
        },
        "id": "xFabJmG5-7bh",
        "outputId": "fb21f6c8-7410-45f7-95a0-a8b095b5d7cf"
      },
      "execution_count": null,
      "outputs": [
        {
          "output_type": "display_data",
          "data": {
            "text/plain": [
              "<Figure size 500x300 with 1 Axes>"
            ],
            "image/png": "[encoded data removed]"
          },
          "metadata": {}
        }
      ]
    },
    {
      "cell_type": "code",
      "source": [
        "#Método aplicando Cuartiles. Encuentro cuartiles 0.25 y 0.75\n",
        "y=df[\"tarjetas_credito\"]\n",
        "\n",
        "percentile25=y.quantile(0.25) #Q1\n",
        "percentile75=y.quantile(0.75) #Q3\n",
        "iqr= percentile75 - percentile25\n",
        "\n",
        "Limite_Superior_iqr= percentile75 + 1.5*iqr\n",
        "Limite_Inferior_iqr= percentile25 - 1.5*iqr\n",
        "print(\"Limite superior permitido\", Limite_Superior_iqr)\n",
        "print(\"Limite inferior permitido\", Limite_Inferior_iqr)"
      ],
      "metadata": {
        "colab": {
          "base_uri": "https://localhost:8080/"
        },
        "id": "gwKJsJOp_Di8",
        "outputId": "69c73973-b53c-4cd0-df1a-6ce841fda7e0"
      },
      "execution_count": null,
      "outputs": [
        {
          "output_type": "stream",
          "name": "stdout",
          "text": [
            "Limite superior permitido 63856184.05500001\n",
            "Limite inferior permitido -16515482.225\n"
          ]
        }
      ]
    },
    {
      "cell_type": "code",
      "source": [
        "outliers_iqr_tarjetas_credito= df['tarjetas_credito'][(y>Limite_Superior_iqr)|(y<Limite_Inferior_iqr)]\n",
        "outliers_iqr_tarjetas_credito"
      ],
      "metadata": {
        "colab": {
          "base_uri": "https://localhost:8080/"
        },
        "id": "lSnzQFg7aG2G",
        "outputId": "a5c92c2b-9163-4a64-ba74-4ffb7ba8a068"
      },
      "execution_count": 28,
      "outputs": [
        {
          "output_type": "execute_result",
          "data": {
            "text/plain": [
              "59    62999676.15\n",
              "Name: tarjetas_credito, dtype: float64"
            ]
          },
          "metadata": {},
          "execution_count": 28
        }
      ]
    },
    {
      "cell_type": "code",
      "source": [
        "#Realizamos diagrama de caja o bigote\n",
        "fig = plt.figure(figsize =(5, 3))\n",
        "plt.boxplot(data_clean_iqr[\"tarjetas_credito\"]) \n",
        "plt.title(\"Outliers de tarjetas_credito\")\n",
        "plt.show() #dibujamos el diagrama "
      ],
      "metadata": {
        "colab": {
          "base_uri": "https://localhost:8080/",
          "height": 334
        },
        "id": "Q1sBHoCx_ITn",
        "outputId": "87da155e-8ffe-49a4-beab-6ad41bda36d0"
      },
      "execution_count": null,
      "outputs": [
        {
          "output_type": "display_data",
          "data": {
            "text/plain": [
              "<Figure size 500x300 with 1 Axes>"
            ],
            "image/png": "[encoded data removed]"
          },
          "metadata": {}
        }
      ]
    },
    {
      "cell_type": "markdown",
      "source": [
        "## otros_medios NO HAY OUTLIERS"
      ],
      "metadata": {
        "id": "ajNEe5il_Swp"
      }
    },
    {
      "cell_type": "code",
      "source": [
        "y=df[\"otros_medios\"]\n",
        "Limite_Superior= y.mean() + 3*y.std()\n",
        "Limite_Inferior= y.mean() - 3*y.std()\n",
        "print(\"Limite superior permitido\", Limite_Superior)\n",
        "print(\"Limite inferior permitido\", Limite_Inferior)"
      ],
      "metadata": {
        "colab": {
          "base_uri": "https://localhost:8080/"
        },
        "id": "KrcM9IDP_Xxw",
        "outputId": "de50d5c4-7015-42c3-a1fe-a8cc56bbe576"
      },
      "execution_count": null,
      "outputs": [
        {
          "output_type": "stream",
          "name": "stdout",
          "text": [
            "Limite superior permitido 10486396.08676514\n",
            "Limite inferior permitido -3626343.6602420625\n"
          ]
        }
      ]
    },
    {
      "cell_type": "code",
      "source": [
        "#Realizamos diagrama de caja o bigote\n",
        "fig = plt.figure(figsize =(5, 3))\n",
        "plt.boxplot(data_clean[\"otros_medios\"]) \n",
        "plt.title(\"Outliers de otros_medios\")\n",
        "plt.show() #dibujamos el diagrama"
      ],
      "metadata": {
        "colab": {
          "base_uri": "https://localhost:8080/",
          "height": 334
        },
        "id": "3UqpeAPu_fCw",
        "outputId": "3edcde25-852f-4a4f-f503-4c4eef7b1283"
      },
      "execution_count": null,
      "outputs": [
        {
          "output_type": "display_data",
          "data": {
            "text/plain": [
              "<Figure size 500x300 with 1 Axes>"
            ],
            "image/png": "[encoded data removed]"
          },
          "metadata": {}
        }
      ]
    },
    {
      "cell_type": "code",
      "source": [
        "#Método aplicando Cuartiles. Encuentro cuartiles 0.25 y 0.75\n",
        "y=df[\"otros_medios\"]\n",
        "\n",
        "percentile25=y.quantile(0.25) #Q1\n",
        "percentile75=y.quantile(0.75) #Q3\n",
        "iqr= percentile75 - percentile25\n",
        "\n",
        "Limite_Superior_iqr= percentile75 + 1.5*iqr\n",
        "Limite_Inferior_iqr= percentile25 - 1.5*iqr\n",
        "print(\"Limite superior permitido\", Limite_Superior_iqr)\n",
        "print(\"Limite inferior permitido\", Limite_Inferior_iqr)"
      ],
      "metadata": {
        "colab": {
          "base_uri": "https://localhost:8080/"
        },
        "id": "_D89kcvD_jHj",
        "outputId": "6fcb269c-5ac8-4ac5-a48c-1ec075139463"
      },
      "execution_count": null,
      "outputs": [
        {
          "output_type": "stream",
          "name": "stdout",
          "text": [
            "Limite superior permitido 10618426.665\n",
            "Limite inferior permitido -3761808.2949999995\n"
          ]
        }
      ]
    },
    {
      "cell_type": "code",
      "source": [
        "#Realizamos diagrama de caja o bigote\n",
        "fig = plt.figure(figsize =(5, 3))\n",
        "plt.boxplot(data_clean_iqr[\"otros_medios\"]) \n",
        "plt.title(\"Outliers de otros_medios\")\n",
        "plt.show() #dibujamos el diagrama "
      ],
      "metadata": {
        "colab": {
          "base_uri": "https://localhost:8080/",
          "height": 335
        },
        "id": "j9RePNN-_sqF",
        "outputId": "6a30fb13-e7f2-4a52-b247-d01b3853cfdf"
      },
      "execution_count": null,
      "outputs": [
        {
          "output_type": "display_data",
          "data": {
            "text/plain": [
              "<Figure size 500x300 with 1 Axes>"
            ],
            "image/png": "[encoded data removed]"
          },
          "metadata": {}
        }
      ]
    },
    {
      "cell_type": "markdown",
      "source": [
        "## ventas_totales_grupo_articulos"
      ],
      "metadata": {
        "id": "XtxAYyX3_1I1"
      }
    },
    {
      "cell_type": "code",
      "source": [
        "y=df[\"ventas_totales_grupo_articulos\"]\n",
        "Limite_Superior= y.mean() + 3*y.std()\n",
        "Limite_Inferior= y.mean() - 3*y.std()\n",
        "print(\"Limite superior permitido\", Limite_Superior)\n",
        "print(\"Limite inferior permitido\", Limite_Inferior)"
      ],
      "metadata": {
        "colab": {
          "base_uri": "https://localhost:8080/"
        },
        "id": "H2wi3ZhtACBR",
        "outputId": "12e1092e-513d-46a0-bfe5-89abad32c953"
      },
      "execution_count": null,
      "outputs": [
        {
          "output_type": "stream",
          "name": "stdout",
          "text": [
            "Limite superior permitido 205953106.93160364\n",
            "Limite inferior permitido -57477046.72544977\n"
          ]
        }
      ]
    },
    {
      "cell_type": "code",
      "source": [
        "#Realizamos diagrama de caja o bigote\n",
        "fig = plt.figure(figsize =(5, 3))\n",
        "plt.boxplot(data_clean[\"ventas_totales_grupo_articulos\"]) \n",
        "plt.title(\"Outliers de ventas_totales_grupo_articulos\")\n",
        "plt.show() #dibujamos el diagrama"
      ],
      "metadata": {
        "colab": {
          "base_uri": "https://localhost:8080/",
          "height": 349
        },
        "id": "TWn3YB7HAI2S",
        "outputId": "5ca956e9-e0b3-4764-e92a-02fc5b3d18a7"
      },
      "execution_count": null,
      "outputs": [
        {
          "output_type": "display_data",
          "data": {
            "text/plain": [
              "<Figure size 500x300 with 1 Axes>"
            ],
            "image/png": "[encoded data removed]"
          },
          "metadata": {}
        }
      ]
    },
    {
      "cell_type": "code",
      "source": [
        "#Método aplicando Cuartiles. Encuentro cuartiles 0.25 y 0.75\n",
        "y=df[\"ventas_totales_grupo_articulos\"]\n",
        "\n",
        "percentile25=y.quantile(0.25) #Q1\n",
        "percentile75=y.quantile(0.75) #Q3\n",
        "iqr= percentile75 - percentile25\n",
        "\n",
        "Limite_Superior_iqr= percentile75 + 1.5*iqr\n",
        "Limite_Inferior_iqr= percentile25 - 1.5*iqr\n",
        "print(\"Limite superior permitido\", Limite_Superior_iqr)\n",
        "print(\"Limite inferior permitido\", Limite_Inferior_iqr)"
      ],
      "metadata": {
        "colab": {
          "base_uri": "https://localhost:8080/"
        },
        "id": "-aJeQJt2AgNG",
        "outputId": "0119fa60-6520-47bb-e86a-a8c5d39b7cce"
      },
      "execution_count": null,
      "outputs": [
        {
          "output_type": "stream",
          "name": "stdout",
          "text": [
            "Limite superior permitido 187511643.5\n",
            "Limite inferior permitido -51165850.5\n"
          ]
        }
      ]
    },
    {
      "cell_type": "code",
      "source": [
        "outliers_iqr_ventas_totales_grupo_articulos= df['ventas_totales_grupo_articulos'][(y>Limite_Superior_iqr)|(y<Limite_Inferior_iqr)]\n",
        "outliers_iqr_ventas_totales_grupo_articulos"
      ],
      "metadata": {
        "colab": {
          "base_uri": "https://localhost:8080/"
        },
        "id": "ozV2ClLLaWaG",
        "outputId": "d13b935d-44f0-4b1c-b7d2-4382560d4845"
      },
      "execution_count": 29,
      "outputs": [
        {
          "output_type": "execute_result",
          "data": {
            "text/plain": [
              "59    183983151.9\n",
              "Name: ventas_totales_grupo_articulos, dtype: float64"
            ]
          },
          "metadata": {},
          "execution_count": 29
        }
      ]
    },
    {
      "cell_type": "code",
      "source": [
        "#Realizamos diagrama de caja o bigote\n",
        "fig = plt.figure(figsize =(5, 3))\n",
        "plt.boxplot(data_clean_iqr[\"ventas_totales_grupo_articulos\"]) \n",
        "plt.title(\"Outliers de ventas_totales_grupo_articulos\")\n",
        "plt.show() #dibujamos el diagrama "
      ],
      "metadata": {
        "colab": {
          "base_uri": "https://localhost:8080/",
          "height": 349
        },
        "id": "gCPNwoL1An9v",
        "outputId": "ca450253-8da1-47d6-f184-05607b87b1de"
      },
      "execution_count": null,
      "outputs": [
        {
          "output_type": "display_data",
          "data": {
            "text/plain": [
              "<Figure size 500x300 with 1 Axes>"
            ],
            "image/png": "[encoded data removed]"
          },
          "metadata": {}
        }
      ]
    },
    {
      "cell_type": "markdown",
      "source": [
        "## subtotal_ventas_alimentos_bebidas NO HAY OUTLIERS"
      ],
      "metadata": {
        "id": "muSz-aIsAvbS"
      }
    },
    {
      "cell_type": "code",
      "source": [
        "y=df[\"subtotal_ventas_alimentos_bebidas\"]\n",
        "Limite_Superior= y.mean() + 3*y.std()\n",
        "Limite_Inferior= y.mean() - 3*y.std()\n",
        "print(\"Limite superior permitido\", Limite_Superior)\n",
        "print(\"Limite inferior permitido\", Limite_Inferior)"
      ],
      "metadata": {
        "colab": {
          "base_uri": "https://localhost:8080/"
        },
        "id": "XdW3U5WjA0CJ",
        "outputId": "adaffbf6-b62d-42d6-c4e1-ff53b8ddbfb6"
      },
      "execution_count": null,
      "outputs": [
        {
          "output_type": "stream",
          "name": "stdout",
          "text": [
            "Limite superior permitido 145189979.20607436\n",
            "Limite inferior permitido -44041437.60515127\n"
          ]
        }
      ]
    },
    {
      "cell_type": "code",
      "source": [
        "#Realizamos diagrama de caja o bigote\n",
        "fig = plt.figure(figsize =(5, 3))\n",
        "plt.boxplot(data_clean[\"subtotal_ventas_alimentos_bebidas\"]) \n",
        "plt.title(\"Outliers de subtotal_ventas_alimentos_bebidas\")\n",
        "plt.show() #dibujamos el diagrama"
      ],
      "metadata": {
        "colab": {
          "base_uri": "https://localhost:8080/",
          "height": 349
        },
        "id": "FVUDhQz3BD0t",
        "outputId": "6d2ce061-d5be-481c-ab8a-261dc02a8564"
      },
      "execution_count": null,
      "outputs": [
        {
          "output_type": "display_data",
          "data": {
            "text/plain": [
              "<Figure size 500x300 with 1 Axes>"
            ],
            "image/png": "[encoded data removed]"
          },
          "metadata": {}
        }
      ]
    },
    {
      "cell_type": "code",
      "source": [
        "#Método aplicando Cuartiles. Encuentro cuartiles 0.25 y 0.75\n",
        "y=df[\"subtotal_ventas_alimentos_bebidas\"]\n",
        "\n",
        "percentile25=y.quantile(0.25) #Q1\n",
        "percentile75=y.quantile(0.75) #Q3\n",
        "iqr= percentile75 - percentile25\n",
        "\n",
        "Limite_Superior_iqr= percentile75 + 1.5*iqr\n",
        "Limite_Inferior_iqr= percentile25 - 1.5*iqr\n",
        "print(\"Limite superior permitido\", Limite_Superior_iqr)\n",
        "print(\"Limite inferior permitido\", Limite_Inferior_iqr)"
      ],
      "metadata": {
        "colab": {
          "base_uri": "https://localhost:8080/"
        },
        "id": "LzpwdE_3BMP8",
        "outputId": "706729ff-5f83-4ef9-866e-0c3608ea3a38"
      },
      "execution_count": null,
      "outputs": [
        {
          "output_type": "stream",
          "name": "stdout",
          "text": [
            "Limite superior permitido 135934765.575\n",
            "Limite inferior permitido -47434646.705000006\n"
          ]
        }
      ]
    },
    {
      "cell_type": "code",
      "source": [
        "#Realizamos diagrama de caja o bigote\n",
        "fig = plt.figure(figsize =(5, 3))\n",
        "plt.boxplot(data_clean_iqr[\"subtotal_ventas_alimentos_bebidas\"]) \n",
        "plt.title(\"Outliers de subtotal_ventas_alimentos_bebidas\")\n",
        "plt.show() #dibujamos el diagrama "
      ],
      "metadata": {
        "colab": {
          "base_uri": "https://localhost:8080/",
          "height": 349
        },
        "id": "u78Gb20qBTSN",
        "outputId": "f12f4eee-c38e-4740-cad2-4b6f860a079e"
      },
      "execution_count": null,
      "outputs": [
        {
          "output_type": "display_data",
          "data": {
            "text/plain": [
              "<Figure size 500x300 with 1 Axes>"
            ],
            "image/png": "[encoded data removed]"
          },
          "metadata": {}
        }
      ]
    },
    {
      "cell_type": "markdown",
      "source": [
        "## bebidas"
      ],
      "metadata": {
        "id": "pmwOLAPVBvLB"
      }
    },
    {
      "cell_type": "code",
      "source": [
        "y=df[\"bebidas\"]\n",
        "Limite_Superior= y.mean() + 3*y.std()\n",
        "Limite_Inferior= y.mean() - 3*y.std()\n",
        "print(\"Limite superior permitido\", Limite_Superior)\n",
        "print(\"Limite inferior permitido\", Limite_Inferior)"
      ],
      "metadata": {
        "colab": {
          "base_uri": "https://localhost:8080/"
        },
        "id": "lHdqQUe6B1Ct",
        "outputId": "85efa8cc-45cd-4ea6-a451-fc0d1d836c92"
      },
      "execution_count": null,
      "outputs": [
        {
          "output_type": "stream",
          "name": "stdout",
          "text": [
            "Limite superior permitido 26484419.878895137\n",
            "Limite inferior permitido -8726956.89280283\n"
          ]
        }
      ]
    },
    {
      "cell_type": "code",
      "source": [
        "#Realizamos diagrama de caja o bigote\n",
        "fig = plt.figure(figsize =(5, 3))\n",
        "plt.boxplot(data_clean[\"bebidas\"]) \n",
        "plt.title(\"Outliers de bebidas\")\n",
        "plt.show() #dibujamos el diagrama"
      ],
      "metadata": {
        "colab": {
          "base_uri": "https://localhost:8080/",
          "height": 334
        },
        "id": "XNxxJQXrB87T",
        "outputId": "cad1238a-7cee-4580-a5bf-4f3a428bd2c1"
      },
      "execution_count": null,
      "outputs": [
        {
          "output_type": "display_data",
          "data": {
            "text/plain": [
              "<Figure size 500x300 with 1 Axes>"
            ],
            "image/png": "[encoded data removed]"
          },
          "metadata": {}
        }
      ]
    },
    {
      "cell_type": "code",
      "source": [
        "#Método aplicando Cuartiles. Encuentro cuartiles 0.25 y 0.75\n",
        "y=df[\"bebidas\"]\n",
        "\n",
        "percentile25=y.quantile(0.25) #Q1\n",
        "percentile75=y.quantile(0.75) #Q3\n",
        "iqr= percentile75 - percentile25\n",
        "\n",
        "Limite_Superior_iqr= percentile75 + 1.5*iqr\n",
        "Limite_Inferior_iqr= percentile25 - 1.5*iqr\n",
        "print(\"Limite superior permitido\", Limite_Superior_iqr)\n",
        "print(\"Limite inferior permitido\", Limite_Inferior_iqr)"
      ],
      "metadata": {
        "colab": {
          "base_uri": "https://localhost:8080/"
        },
        "id": "xNMra1kWCDjy",
        "outputId": "90946f2a-9bfa-45ff-a437-6245027bf09e"
      },
      "execution_count": null,
      "outputs": [
        {
          "output_type": "stream",
          "name": "stdout",
          "text": [
            "Limite superior permitido 22825184.4515\n",
            "Limite inferior permitido -6724636.7525\n"
          ]
        }
      ]
    },
    {
      "cell_type": "code",
      "source": [
        "outliers_iqr_bebidas= df['bebidas'][(y>Limite_Superior_iqr)|(y<Limite_Inferior_iqr)]\n",
        "outliers_iqr_bebidas"
      ],
      "metadata": {
        "colab": {
          "base_uri": "https://localhost:8080/"
        },
        "id": "NY2WSdb1agz-",
        "outputId": "c6d49874-984f-45c6-f2ee-164d2395a981"
      },
      "execution_count": 30,
      "outputs": [
        {
          "output_type": "execute_result",
          "data": {
            "text/plain": [
              "59    31992432.65\n",
              "Name: bebidas, dtype: float64"
            ]
          },
          "metadata": {},
          "execution_count": 30
        }
      ]
    },
    {
      "cell_type": "code",
      "source": [
        "#Realizamos diagrama de caja o bigote\n",
        "fig = plt.figure(figsize =(5, 3))\n",
        "plt.boxplot(data_clean_iqr[\"bebidas\"]) \n",
        "plt.title(\"Outliers de bebidas\")\n",
        "plt.show() #dibujamos el diagrama "
      ],
      "metadata": {
        "colab": {
          "base_uri": "https://localhost:8080/",
          "height": 334
        },
        "id": "9vvNRfeuCIc0",
        "outputId": "a2464424-01fd-4b9a-be52-a0eb433f05dc"
      },
      "execution_count": null,
      "outputs": [
        {
          "output_type": "display_data",
          "data": {
            "text/plain": [
              "<Figure size 500x300 with 1 Axes>"
            ],
            "image/png": "[encoded data removed]"
          },
          "metadata": {}
        }
      ]
    },
    {
      "cell_type": "markdown",
      "source": [
        "## almacen"
      ],
      "metadata": {
        "id": "ndpfUQ_UCaqf"
      }
    },
    {
      "cell_type": "code",
      "source": [
        "y=df[\"almacen\"]\n",
        "Limite_Superior= y.mean() + 3*y.std()\n",
        "Limite_Inferior= y.mean() - 3*y.std()\n",
        "print(\"Limite superior permitido\", Limite_Superior)\n",
        "print(\"Limite inferior permitido\", Limite_Inferior)"
      ],
      "metadata": {
        "colab": {
          "base_uri": "https://localhost:8080/"
        },
        "id": "Eay7qHp0CdgU",
        "outputId": "975edf27-fad5-4a3e-b8cd-35f0945add90"
      },
      "execution_count": null,
      "outputs": [
        {
          "output_type": "stream",
          "name": "stdout",
          "text": [
            "Limite superior permitido 55042619.7498952\n",
            "Limite inferior permitido -14872878.295402896\n"
          ]
        }
      ]
    },
    {
      "cell_type": "code",
      "source": [
        "#Realizamos diagrama de caja o bigote\n",
        "fig = plt.figure(figsize =(5, 3))\n",
        "plt.boxplot(data_clean[\"almacen\"]) \n",
        "plt.title(\"Outliers de almacen\")\n",
        "plt.show() #dibujamos el diagrama"
      ],
      "metadata": {
        "colab": {
          "base_uri": "https://localhost:8080/",
          "height": 334
        },
        "id": "DjKyRAc5Cknd",
        "outputId": "16eebc0f-fd96-4d6f-c175-6916f76f5b37"
      },
      "execution_count": null,
      "outputs": [
        {
          "output_type": "display_data",
          "data": {
            "text/plain": [
              "<Figure size 500x300 with 1 Axes>"
            ],
            "image/png": "[encoded data removed]"
          },
          "metadata": {}
        }
      ]
    },
    {
      "cell_type": "code",
      "source": [
        "#Método aplicando Cuartiles. Encuentro cuartiles 0.25 y 0.75\n",
        "y=df[\"almacen\"]\n",
        "\n",
        "percentile25=y.quantile(0.25) #Q1\n",
        "percentile75=y.quantile(0.75) #Q3\n",
        "iqr= percentile75 - percentile25\n",
        "\n",
        "Limite_Superior_iqr= percentile75 + 1.5*iqr\n",
        "Limite_Inferior_iqr= percentile25 - 1.5*iqr\n",
        "print(\"Limite superior permitido\", Limite_Superior_iqr)\n",
        "print(\"Limite inferior permitido\", Limite_Inferior_iqr)"
      ],
      "metadata": {
        "colab": {
          "base_uri": "https://localhost:8080/"
        },
        "id": "XLD089nbCpVA",
        "outputId": "93eef7a0-e807-440a-a89d-aa3763f52887"
      },
      "execution_count": 35,
      "outputs": [
        {
          "output_type": "stream",
          "name": "stdout",
          "text": [
            "Limite superior permitido 50152976.14\n",
            "Limite inferior permitido -13775748.259999998\n"
          ]
        }
      ]
    },
    {
      "cell_type": "code",
      "source": [
        "outliers_iqr_almacen= df['almacen'][(y>Limite_Superior_iqr)|(y<Limite_Inferior_iqr)]\n",
        "outliers_iqr_almacen"
      ],
      "metadata": {
        "colab": {
          "base_uri": "https://localhost:8080/"
        },
        "id": "9aRAN-aeaoIz",
        "outputId": "b555a1f3-b59e-4618-b46c-54a5415f8bc7"
      },
      "execution_count": 37,
      "outputs": [
        {
          "output_type": "execute_result",
          "data": {
            "text/plain": [
              "Series([], Name: almacen, dtype: float64)"
            ]
          },
          "metadata": {},
          "execution_count": 37
        }
      ]
    },
    {
      "cell_type": "code",
      "source": [
        "#Realizamos diagrama de caja o bigote\n",
        "fig = plt.figure(figsize =(5, 3))\n",
        "plt.boxplot(data_clean_iqr[\"almacen\"]) \n",
        "plt.title(\"Outliers de almacen\")\n",
        "plt.show() #dibujamos el diagrama "
      ],
      "metadata": {
        "colab": {
          "base_uri": "https://localhost:8080/",
          "height": 334
        },
        "id": "ufwe-wmfCtmg",
        "outputId": "35318567-7236-4151-9fb6-b15cf216fb69"
      },
      "execution_count": null,
      "outputs": [
        {
          "output_type": "display_data",
          "data": {
            "text/plain": [
              "<Figure size 500x300 with 1 Axes>"
            ],
            "image/png": "[encoded data removed]"
          },
          "metadata": {}
        }
      ]
    },
    {
      "cell_type": "markdown",
      "source": [
        "## panaderia"
      ],
      "metadata": {
        "id": "3bB9cdGqCxfk"
      }
    },
    {
      "cell_type": "code",
      "source": [
        "y=df[\"panaderia\"]\n",
        "Limite_Superior= y.mean() + 3*y.std()\n",
        "Limite_Inferior= y.mean() - 3*y.std()\n",
        "print(\"Limite superior permitido\", Limite_Superior)\n",
        "print(\"Limite inferior permitido\", Limite_Inferior)"
      ],
      "metadata": {
        "colab": {
          "base_uri": "https://localhost:8080/"
        },
        "id": "wgeNpLeXCzYj",
        "outputId": "8a46c9b5-830e-40e9-9cbb-9d039b1f5ffa"
      },
      "execution_count": null,
      "outputs": [
        {
          "output_type": "stream",
          "name": "stdout",
          "text": [
            "Limite superior permitido 6984940.292889729\n",
            "Limite inferior permitido -1843701.2237666529\n"
          ]
        }
      ]
    },
    {
      "cell_type": "code",
      "source": [
        "#Realizamos diagrama de caja o bigote\n",
        "fig = plt.figure(figsize =(5, 3))\n",
        "plt.boxplot(data_clean[\"panaderia\"]) \n",
        "plt.title(\"Outliers de panaderia\")\n",
        "plt.show() #dibujamos el diagrama"
      ],
      "metadata": {
        "colab": {
          "base_uri": "https://localhost:8080/",
          "height": 334
        },
        "id": "QE05Q87lC6Vd",
        "outputId": "3603bc01-6c75-477c-dc6b-6ddc3c0a751f"
      },
      "execution_count": null,
      "outputs": [
        {
          "output_type": "display_data",
          "data": {
            "text/plain": [
              "<Figure size 500x300 with 1 Axes>"
            ],
            "image/png": "[encoded data removed]"
          },
          "metadata": {}
        }
      ]
    },
    {
      "cell_type": "code",
      "source": [
        "#Método aplicando Cuartiles. Encuentro cuartiles 0.25 y 0.75\n",
        "y=df[\"panaderia\"]\n",
        "\n",
        "percentile25=y.quantile(0.25) #Q1\n",
        "percentile75=y.quantile(0.75) #Q3\n",
        "iqr= percentile75 - percentile25\n",
        "\n",
        "Limite_Superior_iqr= percentile75 + 1.5*iqr\n",
        "Limite_Inferior_iqr= percentile25 - 1.5*iqr\n",
        "print(\"Limite superior permitido\", Limite_Superior_iqr)\n",
        "print(\"Limite inferior permitido\", Limite_Inferior_iqr)"
      ],
      "metadata": {
        "colab": {
          "base_uri": "https://localhost:8080/"
        },
        "id": "1iUItBE4C9g5",
        "outputId": "1611b004-444e-43b0-ec9d-855b8cbe2ce8"
      },
      "execution_count": 33,
      "outputs": [
        {
          "output_type": "stream",
          "name": "stdout",
          "text": [
            "Limite superior permitido 5344003.4675\n",
            "Limite inferior permitido -946571.9125000001\n"
          ]
        }
      ]
    },
    {
      "cell_type": "code",
      "source": [
        "outliers_iqr_panaderia= df['panaderia'][(y>Limite_Superior_iqr)|(y<Limite_Inferior_iqr)]\n",
        "outliers_iqr_panaderia"
      ],
      "metadata": {
        "colab": {
          "base_uri": "https://localhost:8080/"
        },
        "id": "KR8CwBlpawFa",
        "outputId": "0ea148e2-da47-48dc-bce9-b631a3491a29"
      },
      "execution_count": 34,
      "outputs": [
        {
          "output_type": "execute_result",
          "data": {
            "text/plain": [
              "59    5859939.041\n",
              "62    5922819.509\n",
              "63    6746166.557\n",
              "64    6667329.665\n",
              "Name: panaderia, dtype: float64"
            ]
          },
          "metadata": {},
          "execution_count": 34
        }
      ]
    },
    {
      "cell_type": "code",
      "source": [
        "#Realizamos diagrama de caja o bigote\n",
        "fig = plt.figure(figsize =(5, 3))\n",
        "plt.boxplot(data_clean_iqr[\"panaderia\"]) \n",
        "plt.title(\"Outliers de panaderia\")\n",
        "plt.show() #dibujamos el diagrama "
      ],
      "metadata": {
        "colab": {
          "base_uri": "https://localhost:8080/",
          "height": 334
        },
        "id": "H3_keZ1kDC5a",
        "outputId": "aba0b604-6810-41b5-83ab-3b029dcbb35d"
      },
      "execution_count": null,
      "outputs": [
        {
          "output_type": "display_data",
          "data": {
            "text/plain": [
              "<Figure size 500x300 with 1 Axes>"
            ],
            "image/png": "[encoded data removed]"
          },
          "metadata": {}
        }
      ]
    },
    {
      "cell_type": "markdown",
      "source": [
        "## lacteos"
      ],
      "metadata": {
        "id": "7wLOLt-oDNxJ"
      }
    },
    {
      "cell_type": "code",
      "source": [
        "y=df[\"lacteos\"]\n",
        "Limite_Superior= y.mean() + 3*y.std()\n",
        "Limite_Inferior= y.mean() - 3*y.std()\n",
        "print(\"Limite superior permitido\", Limite_Superior)\n",
        "print(\"Limite inferior permitido\", Limite_Inferior)"
      ],
      "metadata": {
        "colab": {
          "base_uri": "https://localhost:8080/"
        },
        "id": "HX9PpJ0QDSBj",
        "outputId": "be00951d-889a-49a7-e8be-3588a5f6526f"
      },
      "execution_count": null,
      "outputs": [
        {
          "output_type": "stream",
          "name": "stdout",
          "text": [
            "Limite superior permitido 22295332.462230045\n",
            "Limite inferior permitido -5847189.474630044\n"
          ]
        }
      ]
    },
    {
      "cell_type": "code",
      "source": [
        "#Realizamos diagrama de caja o bigote\n",
        "fig = plt.figure(figsize =(5, 3))\n",
        "plt.boxplot(data_clean[\"lacteos\"]) \n",
        "plt.title(\"Outliers de lacteos\")\n",
        "plt.show() #dibujamos el diagrama"
      ],
      "metadata": {
        "colab": {
          "base_uri": "https://localhost:8080/",
          "height": 334
        },
        "id": "6S3WbFBmDYmM",
        "outputId": "0561b510-de51-4b35-880a-b762289db5ca"
      },
      "execution_count": null,
      "outputs": [
        {
          "output_type": "display_data",
          "data": {
            "text/plain": [
              "<Figure size 500x300 with 1 Axes>"
            ],
            "image/png": "[encoded data removed]"
          },
          "metadata": {}
        }
      ]
    },
    {
      "cell_type": "code",
      "source": [
        "#Método aplicando Cuartiles. Encuentro cuartiles 0.25 y 0.75\n",
        "y=df[\"lacteos\"]\n",
        "\n",
        "percentile25=y.quantile(0.25) #Q1\n",
        "percentile75=y.quantile(0.75) #Q3\n",
        "iqr= percentile75 - percentile25\n",
        "\n",
        "Limite_Superior_iqr= percentile75 + 1.5*iqr\n",
        "Limite_Inferior_iqr= percentile25 - 1.5*iqr\n",
        "print(\"Limite superior permitido\", Limite_Superior_iqr)\n",
        "print(\"Limite inferior permitido\", Limite_Inferior_iqr)"
      ],
      "metadata": {
        "colab": {
          "base_uri": "https://localhost:8080/"
        },
        "id": "tkO751PlDboM",
        "outputId": "adbcfa98-7313-424e-8c80-8c9bc91aecd5"
      },
      "execution_count": 38,
      "outputs": [
        {
          "output_type": "stream",
          "name": "stdout",
          "text": [
            "Limite superior permitido 19940661.0455\n",
            "Limite inferior permitido -5569362.3025\n"
          ]
        }
      ]
    },
    {
      "cell_type": "code",
      "source": [
        "outliers_iqr_lacteos= df['lacteos'][(y>Limite_Superior_iqr)|(y<Limite_Inferior_iqr)]\n",
        "outliers_iqr_lacteos"
      ],
      "metadata": {
        "colab": {
          "base_uri": "https://localhost:8080/"
        },
        "id": "IO4JCS-bbEDB",
        "outputId": "d3cceb65-f227-4376-8ff0-64bc4d44fbec"
      },
      "execution_count": 39,
      "outputs": [
        {
          "output_type": "execute_result",
          "data": {
            "text/plain": [
              "64    20121124.43\n",
              "Name: lacteos, dtype: float64"
            ]
          },
          "metadata": {},
          "execution_count": 39
        }
      ]
    },
    {
      "cell_type": "code",
      "source": [
        "#Realizamos diagrama de caja o bigote\n",
        "fig = plt.figure(figsize =(5, 3))\n",
        "plt.boxplot(data_clean_iqr[\"lacteos\"]) \n",
        "plt.title(\"Outliers de lacteos\")\n",
        "plt.show() #dibujamos el diagrama "
      ],
      "metadata": {
        "colab": {
          "base_uri": "https://localhost:8080/",
          "height": 334
        },
        "id": "xUTMqgOvDjIL",
        "outputId": "ca60991b-8945-4771-ea24-c0cd4c92d287"
      },
      "execution_count": null,
      "outputs": [
        {
          "output_type": "display_data",
          "data": {
            "text/plain": [
              "<Figure size 500x300 with 1 Axes>"
            ],
            "image/png": "[encoded data removed]"
          },
          "metadata": {}
        }
      ]
    },
    {
      "cell_type": "markdown",
      "source": [
        "## carnes NO HAY OUTLIERS"
      ],
      "metadata": {
        "id": "kl9j7vKJD1nb"
      }
    },
    {
      "cell_type": "code",
      "source": [
        "y=df[\"carnes\"]\n",
        "Limite_Superior= y.mean() + 3*y.std()\n",
        "Limite_Inferior= y.mean() - 3*y.std()\n",
        "print(\"Limite superior permitido\", Limite_Superior)\n",
        "print(\"Limite inferior permitido\", Limite_Inferior)"
      ],
      "metadata": {
        "colab": {
          "base_uri": "https://localhost:8080/"
        },
        "id": "_kdFK2kkD4M_",
        "outputId": "ef983d8a-759b-426b-e506-c0469bd10ff7"
      },
      "execution_count": null,
      "outputs": [
        {
          "output_type": "stream",
          "name": "stdout",
          "text": [
            "Limite superior permitido 25283194.682322368\n",
            "Limite inferior permitido -8430217.14641468\n"
          ]
        }
      ]
    },
    {
      "cell_type": "code",
      "source": [
        "#Realizamos diagrama de caja o bigote\n",
        "fig = plt.figure(figsize =(5, 3))\n",
        "plt.boxplot(data_clean[\"carnes\"]) \n",
        "plt.title(\"Outliers de carnes\")\n",
        "plt.show() #dibujamos el diagrama"
      ],
      "metadata": {
        "colab": {
          "base_uri": "https://localhost:8080/",
          "height": 335
        },
        "id": "brjSn1mKEBv2",
        "outputId": "dffcc5cb-a317-4663-e5fe-dbee08a1c382"
      },
      "execution_count": null,
      "outputs": [
        {
          "output_type": "display_data",
          "data": {
            "text/plain": [
              "<Figure size 500x300 with 1 Axes>"
            ],
            "image/png": "[encoded data removed]"
          },
          "metadata": {}
        }
      ]
    },
    {
      "cell_type": "code",
      "source": [
        "#Método aplicando Cuartiles. Encuentro cuartiles 0.25 y 0.75\n",
        "y=df[\"carnes\"]\n",
        "\n",
        "percentile25=y.quantile(0.25) #Q1\n",
        "percentile75=y.quantile(0.75) #Q3\n",
        "iqr= percentile75 - percentile25\n",
        "\n",
        "Limite_Superior_iqr= percentile75 + 1.5*iqr\n",
        "Limite_Inferior_iqr= percentile25 - 1.5*iqr\n",
        "print(\"Limite superior permitido\", Limite_Superior_iqr)\n",
        "print(\"Limite inferior permitido\", Limite_Inferior_iqr)"
      ],
      "metadata": {
        "colab": {
          "base_uri": "https://localhost:8080/"
        },
        "id": "VOheN8QgEJZu",
        "outputId": "192aaf1e-e42d-48ea-b631-0e00f8a28a7b"
      },
      "execution_count": null,
      "outputs": [
        {
          "output_type": "stream",
          "name": "stdout",
          "text": [
            "Limite superior permitido 27870501.3\n",
            "Limite inferior permitido -10842374.22\n"
          ]
        }
      ]
    },
    {
      "cell_type": "code",
      "source": [
        "#Realizamos diagrama de caja o bigote\n",
        "fig = plt.figure(figsize =(5, 3))\n",
        "plt.boxplot(data_clean_iqr[\"carnes\"]) \n",
        "plt.title(\"Outliers de carnes\")\n",
        "plt.show() #dibujamos el diagrama "
      ],
      "metadata": {
        "colab": {
          "base_uri": "https://localhost:8080/",
          "height": 334
        },
        "id": "KdNz2GQmEOGT",
        "outputId": "19e33d52-5416-46c6-a893-0a699543065a"
      },
      "execution_count": null,
      "outputs": [
        {
          "output_type": "display_data",
          "data": {
            "text/plain": [
              "<Figure size 500x300 with 1 Axes>"
            ],
            "image/png": "[encoded data removed]"
          },
          "metadata": {}
        }
      ]
    },
    {
      "cell_type": "markdown",
      "source": [
        "## verduleria_fruteria NO HAY OUTLIERS"
      ],
      "metadata": {
        "id": "MYTvRv5EEVRY"
      }
    },
    {
      "cell_type": "code",
      "source": [
        "y=df[\"verduleria_fruteria\"]\n",
        "Limite_Superior= y.mean() + 3*y.std()\n",
        "Limite_Inferior= y.mean() - 3*y.std()\n",
        "print(\"Limite superior permitido\", Limite_Superior)\n",
        "print(\"Limite inferior permitido\", Limite_Inferior)"
      ],
      "metadata": {
        "colab": {
          "base_uri": "https://localhost:8080/"
        },
        "id": "EmqNbSaMEaSh",
        "outputId": "7fdb4922-eb41-4444-f512-0179604e12f6"
      },
      "execution_count": null,
      "outputs": [
        {
          "output_type": "stream",
          "name": "stdout",
          "text": [
            "Limite superior permitido 7593897.319472884\n",
            "Limite inferior permitido -2279233.240023653\n"
          ]
        }
      ]
    },
    {
      "cell_type": "code",
      "source": [
        "#Realizamos diagrama de caja o bigote\n",
        "fig = plt.figure(figsize =(5, 3))\n",
        "plt.boxplot(data_clean[\"verduleria_fruteria\"]) \n",
        "plt.title(\"Outliers de verduleria_fruteria\")\n",
        "plt.show() #dibujamos el diagrama"
      ],
      "metadata": {
        "colab": {
          "base_uri": "https://localhost:8080/",
          "height": 334
        },
        "id": "eme1CS_nEiJF",
        "outputId": "765c14ba-da57-441e-f9bd-7f53bfe47139"
      },
      "execution_count": null,
      "outputs": [
        {
          "output_type": "display_data",
          "data": {
            "text/plain": [
              "<Figure size 500x300 with 1 Axes>"
            ],
            "image/png": "[encoded data removed]"
          },
          "metadata": {}
        }
      ]
    },
    {
      "cell_type": "code",
      "source": [
        "#Método aplicando Cuartiles. Encuentro cuartiles 0.25 y 0.75\n",
        "y=df[\"verduleria_fruteria\"]\n",
        "\n",
        "percentile25=y.quantile(0.25) #Q1\n",
        "percentile75=y.quantile(0.75) #Q3\n",
        "iqr= percentile75 - percentile25\n",
        "\n",
        "Limite_Superior_iqr= percentile75 + 1.5*iqr\n",
        "Limite_Inferior_iqr= percentile25 - 1.5*iqr\n",
        "print(\"Limite superior permitido\", Limite_Superior_iqr)\n",
        "print(\"Limite inferior permitido\", Limite_Inferior_iqr)"
      ],
      "metadata": {
        "colab": {
          "base_uri": "https://localhost:8080/"
        },
        "id": "d7OkBsO0Ep37",
        "outputId": "889de069-411e-43a8-e840-8a20d687bff2"
      },
      "execution_count": null,
      "outputs": [
        {
          "output_type": "stream",
          "name": "stdout",
          "text": [
            "Limite superior permitido 7832862.309\n",
            "Limite inferior permitido -2590302.1950000003\n"
          ]
        }
      ]
    },
    {
      "cell_type": "code",
      "source": [
        "#Realizamos diagrama de caja o bigote\n",
        "fig = plt.figure(figsize =(5, 3))\n",
        "plt.boxplot(data_clean_iqr[\"verduleria_fruteria\"]) \n",
        "plt.title(\"Outliers de verduleria_fruteria\")\n",
        "plt.show() #dibujamos el diagrama "
      ],
      "metadata": {
        "colab": {
          "base_uri": "https://localhost:8080/",
          "height": 335
        },
        "id": "8ply-mZYEwEs",
        "outputId": "648cd81b-c65d-477b-b8d7-1cd8db5d531b"
      },
      "execution_count": null,
      "outputs": [
        {
          "output_type": "display_data",
          "data": {
            "text/plain": [
              "<Figure size 500x300 with 1 Axes>"
            ],
            "image/png": "[encoded data removed]"
          },
          "metadata": {}
        }
      ]
    },
    {
      "cell_type": "markdown",
      "source": [
        "## alimentos_preparados_rotiseria"
      ],
      "metadata": {
        "id": "psuWVBxSE67F"
      }
    },
    {
      "cell_type": "code",
      "source": [
        "y=df[\"alimentos_preparados_rotiseria\"]\n",
        "Limite_Superior= y.mean() + 3*y.std()\n",
        "Limite_Inferior= y.mean() - 3*y.std()\n",
        "print(\"Limite superior permitido\", Limite_Superior)\n",
        "print(\"Limite inferior permitido\", Limite_Inferior)"
      ],
      "metadata": {
        "colab": {
          "base_uri": "https://localhost:8080/"
        },
        "id": "74TwFfJtE8cs",
        "outputId": "26c3c5fb-4bfb-42d9-ac5a-1f9859a89fdd"
      },
      "execution_count": null,
      "outputs": [
        {
          "output_type": "stream",
          "name": "stdout",
          "text": [
            "Limite superior permitido 1796605.7908211616\n",
            "Limite inferior permitido -421805.4176580849\n"
          ]
        }
      ]
    },
    {
      "cell_type": "code",
      "source": [
        "#Realizamos diagrama de caja o bigote\n",
        "fig = plt.figure(figsize =(5, 3))\n",
        "plt.boxplot(data_clean[\"alimentos_preparados_rotiseria\"]) \n",
        "plt.title(\"Outliers de alimentos_preparados_rotiseria\")\n",
        "plt.show() #dibujamos el diagrama"
      ],
      "metadata": {
        "colab": {
          "base_uri": "https://localhost:8080/",
          "height": 349
        },
        "id": "KCnU7tDqFE8T",
        "outputId": "080d1920-ebe3-4ec2-8aad-993d33ecadb3"
      },
      "execution_count": null,
      "outputs": [
        {
          "output_type": "display_data",
          "data": {
            "text/plain": [
              "<Figure size 500x300 with 1 Axes>"
            ],
            "image/png": "[encoded data removed]"
          },
          "metadata": {}
        }
      ]
    },
    {
      "cell_type": "code",
      "source": [
        "#Método aplicando Cuartiles. Encuentro cuartiles 0.25 y 0.75\n",
        "y=df[\"alimentos_preparados_rotiseria\"]\n",
        "\n",
        "percentile25=y.quantile(0.25) #Q1\n",
        "percentile75=y.quantile(0.75) #Q3\n",
        "iqr= percentile75 - percentile25\n",
        "\n",
        "Limite_Superior_iqr= percentile75 + 1.5*iqr\n",
        "Limite_Inferior_iqr= percentile25 - 1.5*iqr\n",
        "print(\"Limite superior permitido\", Limite_Superior_iqr)\n",
        "print(\"Limite inferior permitido\", Limite_Inferior_iqr)"
      ],
      "metadata": {
        "colab": {
          "base_uri": "https://localhost:8080/"
        },
        "id": "pJ9oBrlVFLgU",
        "outputId": "37f91f58-af93-4891-df7a-e1ccf2165703"
      },
      "execution_count": 40,
      "outputs": [
        {
          "output_type": "stream",
          "name": "stdout",
          "text": [
            "Limite superior permitido 1546751.13875\n",
            "Limite inferior permitido -227313.79444999993\n"
          ]
        }
      ]
    },
    {
      "cell_type": "code",
      "source": [
        "outliers_iqr_alimentos_preparados_rotiseria= df['alimentos_preparados_rotiseria'][(y>Limite_Superior_iqr)|(y<Limite_Inferior_iqr)]\n",
        "outliers_iqr_alimentos_preparados_rotiseria"
      ],
      "metadata": {
        "colab": {
          "base_uri": "https://localhost:8080/"
        },
        "id": "UfjeT9k_bOYy",
        "outputId": "aa847a92-0baa-40a3-b8e5-0cd53097765b"
      },
      "execution_count": 41,
      "outputs": [
        {
          "output_type": "execute_result",
          "data": {
            "text/plain": [
              "59    1679028.685\n",
              "62    1589119.305\n",
              "63    1719458.547\n",
              "64    1779482.857\n",
              "Name: alimentos_preparados_rotiseria, dtype: float64"
            ]
          },
          "metadata": {},
          "execution_count": 41
        }
      ]
    },
    {
      "cell_type": "code",
      "source": [
        "#Realizamos diagrama de caja o bigote\n",
        "fig = plt.figure(figsize =(5, 3))\n",
        "plt.boxplot(data_clean_iqr[\"alimentos_preparados_rotiseria\"]) \n",
        "plt.title(\"Outliers de alimentos_preparados_rotiseria\")\n",
        "plt.show() #dibujamos el diagrama "
      ],
      "metadata": {
        "colab": {
          "base_uri": "https://localhost:8080/",
          "height": 349
        },
        "id": "5m5-U_wZFSFu",
        "outputId": "287067a1-8b9a-4881-b0ce-6400dda5fab6"
      },
      "execution_count": null,
      "outputs": [
        {
          "output_type": "display_data",
          "data": {
            "text/plain": [
              "<Figure size 500x300 with 1 Axes>"
            ],
            "image/png": "[encoded data removed]"
          },
          "metadata": {}
        }
      ]
    },
    {
      "cell_type": "markdown",
      "source": [
        "## articulos_limpieza_perfumeria NO HAY OUTLIERS"
      ],
      "metadata": {
        "id": "LdAt_DpNFXZV"
      }
    },
    {
      "cell_type": "code",
      "source": [
        "y=df[\"articulos_limpieza_perfumeria\"]\n",
        "Limite_Superior= y.mean() + 3*y.std()\n",
        "Limite_Inferior= y.mean() - 3*y.std()\n",
        "print(\"Limite superior permitido\", Limite_Superior)\n",
        "print(\"Limite inferior permitido\", Limite_Inferior)"
      ],
      "metadata": {
        "colab": {
          "base_uri": "https://localhost:8080/"
        },
        "id": "AIIQ7r-PFcz8",
        "outputId": "ecc0dcab-c444-4843-9f6a-baf2609a7f54"
      },
      "execution_count": null,
      "outputs": [
        {
          "output_type": "stream",
          "name": "stdout",
          "text": [
            "Limite superior permitido 26933276.02311951\n",
            "Limite inferior permitido -6271196.185704121\n"
          ]
        }
      ]
    },
    {
      "cell_type": "code",
      "source": [
        "#Realizamos diagrama de caja o bigote\n",
        "fig = plt.figure(figsize =(5, 3))\n",
        "plt.boxplot(data_clean[\"articulos_limpieza_perfumeria\"]) \n",
        "plt.title(\"Outliers de articulos_limpieza_perfumeria\")\n",
        "plt.show() #dibujamos el diagrama"
      ],
      "metadata": {
        "colab": {
          "base_uri": "https://localhost:8080/",
          "height": 350
        },
        "id": "NDalIRx2FmoU",
        "outputId": "8faea1aa-d849-40c1-82b0-fda2f0a29837"
      },
      "execution_count": null,
      "outputs": [
        {
          "output_type": "display_data",
          "data": {
            "text/plain": [
              "<Figure size 500x300 with 1 Axes>"
            ],
            "image/png": "[encoded data removed]"
          },
          "metadata": {}
        }
      ]
    },
    {
      "cell_type": "code",
      "source": [
        "#Método aplicando Cuartiles. Encuentro cuartiles 0.25 y 0.75\n",
        "y=df[\"articulos_limpieza_perfumeria\"]\n",
        "\n",
        "percentile25=y.quantile(0.25) #Q1\n",
        "percentile75=y.quantile(0.75) #Q3\n",
        "iqr= percentile75 - percentile25\n",
        "\n",
        "Limite_Superior_iqr= percentile75 + 1.5*iqr\n",
        "Limite_Inferior_iqr= percentile25 - 1.5*iqr\n",
        "print(\"Limite superior permitido\", Limite_Superior_iqr)\n",
        "print(\"Limite inferior permitido\", Limite_Inferior_iqr)"
      ],
      "metadata": {
        "colab": {
          "base_uri": "https://localhost:8080/"
        },
        "id": "XpgHhC4jFum8",
        "outputId": "9c0fb9f2-1ff7-4c3e-81c2-1dec28b2beb7"
      },
      "execution_count": null,
      "outputs": [
        {
          "output_type": "stream",
          "name": "stdout",
          "text": [
            "Limite superior permitido 27735459.188\n",
            "Limite inferior permitido -8258486.54\n"
          ]
        }
      ]
    },
    {
      "cell_type": "code",
      "source": [
        "#Realizamos diagrama de caja o bigote\n",
        "fig = plt.figure(figsize =(5, 3))\n",
        "plt.boxplot(data_clean_iqr[\"articulos_limpieza_perfumeria\"]) \n",
        "plt.title(\"Outliers de articulos_limpieza_perfumeria\")\n",
        "plt.show() #dibujamos el diagrama "
      ],
      "metadata": {
        "colab": {
          "base_uri": "https://localhost:8080/",
          "height": 349
        },
        "id": "U7-Mi_0NF0ki",
        "outputId": "4110fdad-95c4-4725-ef3a-9d44e07bb055"
      },
      "execution_count": null,
      "outputs": [
        {
          "output_type": "display_data",
          "data": {
            "text/plain": [
              "<Figure size 500x300 with 1 Axes>"
            ],
            "image/png": "[encoded data removed]"
          },
          "metadata": {}
        }
      ]
    },
    {
      "cell_type": "markdown",
      "source": [
        "## indumentaria_calzado_textiles_hogar"
      ],
      "metadata": {
        "id": "UNw4JbL9F-D8"
      }
    },
    {
      "cell_type": "code",
      "source": [
        "y=df[\"indumentaria_calzado_textiles_hogar\"]\n",
        "Limite_Superior= y.mean() + 3*y.std()\n",
        "Limite_Inferior= y.mean() - 3*y.std()\n",
        "print(\"Limite superior permitido\", Limite_Superior)\n",
        "print(\"Limite inferior permitido\", Limite_Inferior)"
      ],
      "metadata": {
        "colab": {
          "base_uri": "https://localhost:8080/"
        },
        "id": "fhpHs9pwGRtI",
        "outputId": "2b286fd0-6fe0-415c-a220-b1018809f828"
      },
      "execution_count": null,
      "outputs": [
        {
          "output_type": "stream",
          "name": "stdout",
          "text": [
            "Limite superior permitido 5156970.953168336\n",
            "Limite inferior permitido -1604600.4128114134\n"
          ]
        }
      ]
    },
    {
      "cell_type": "code",
      "source": [
        "#Realizamos diagrama de caja o bigote\n",
        "fig = plt.figure(figsize =(5, 3))\n",
        "plt.boxplot(data_clean[\"indumentaria_calzado_textiles_hogar\"]) \n",
        "plt.title(\"Outliers de indumentaria_calzado_textiles_hogar\")\n",
        "plt.show() #dibujamos el diagrama"
      ],
      "metadata": {
        "colab": {
          "base_uri": "https://localhost:8080/",
          "height": 350
        },
        "id": "exIUUvNEGcJs",
        "outputId": "1d523973-a5d1-419e-e224-68562c0671de"
      },
      "execution_count": null,
      "outputs": [
        {
          "output_type": "display_data",
          "data": {
            "text/plain": [
              "<Figure size 500x300 with 1 Axes>"
            ],
            "image/png": "[encoded data removed]"
          },
          "metadata": {}
        }
      ]
    },
    {
      "cell_type": "code",
      "source": [
        "#Método aplicando Cuartiles. Encuentro cuartiles 0.25 y 0.75\n",
        "y=df[\"indumentaria_calzado_textiles_hogar\"]\n",
        "\n",
        "percentile25=y.quantile(0.25) #Q1\n",
        "percentile75=y.quantile(0.75) #Q3\n",
        "iqr= percentile75 - percentile25\n",
        "\n",
        "Limite_Superior_iqr= percentile75 + 1.5*iqr\n",
        "Limite_Inferior_iqr= percentile25 - 1.5*iqr\n",
        "print(\"Limite superior permitido\", Limite_Superior_iqr)\n",
        "print(\"Limite inferior permitido\", Limite_Inferior_iqr)"
      ],
      "metadata": {
        "colab": {
          "base_uri": "https://localhost:8080/"
        },
        "id": "B6oRDFemGllg",
        "outputId": "9309ad2d-80b3-4932-ba07-19b260f56408"
      },
      "execution_count": 42,
      "outputs": [
        {
          "output_type": "stream",
          "name": "stdout",
          "text": [
            "Limite superior permitido 4070013.5714000002\n",
            "Limite inferior permitido -898722.7150000001\n"
          ]
        }
      ]
    },
    {
      "cell_type": "code",
      "source": [
        "outliers_iqr_indumentaria_calzado_textiles_hogar= df['indumentaria_calzado_textiles_hogar'][(y>Limite_Superior_iqr)|(y<Limite_Inferior_iqr)]\n",
        "outliers_iqr_indumentaria_calzado_textiles_hogar"
      ],
      "metadata": {
        "colab": {
          "base_uri": "https://localhost:8080/"
        },
        "id": "QOshouaIbZ5V",
        "outputId": "5a89fc07-9ff5-46ad-e222-43cb3036851d"
      },
      "execution_count": 43,
      "outputs": [
        {
          "output_type": "execute_result",
          "data": {
            "text/plain": [
              "59    4759532.634\n",
              "63    4228053.874\n",
              "64    5213152.564\n",
              "Name: indumentaria_calzado_textiles_hogar, dtype: float64"
            ]
          },
          "metadata": {},
          "execution_count": 43
        }
      ]
    },
    {
      "cell_type": "code",
      "source": [
        "#Realizamos diagrama de caja o bigote\n",
        "fig = plt.figure(figsize =(5, 3))\n",
        "plt.boxplot(data_clean_iqr[\"indumentaria_calzado_textiles_hogar\"]) \n",
        "plt.title(\"Outliers de indumentaria_calzado_textiles_hogar\")\n",
        "plt.show() #dibujamos el diagrama "
      ],
      "metadata": {
        "colab": {
          "base_uri": "https://localhost:8080/",
          "height": 349
        },
        "id": "cHoStSgtGsjE",
        "outputId": "7b7e4204-0ff5-4bc8-b744-1698535e9bd8"
      },
      "execution_count": null,
      "outputs": [
        {
          "output_type": "display_data",
          "data": {
            "text/plain": [
              "<Figure size 500x300 with 1 Axes>"
            ],
            "image/png": "[encoded data removed]"
          },
          "metadata": {}
        }
      ]
    },
    {
      "cell_type": "markdown",
      "source": [
        "## electronicos_articulos_hogar"
      ],
      "metadata": {
        "id": "C8aPPlWZGzBp"
      }
    },
    {
      "cell_type": "code",
      "source": [
        "y=df[\"electronicos_articulos_hogar\"]\n",
        "Limite_Superior= y.mean() + 3*y.std()\n",
        "Limite_Inferior= y.mean() - 3*y.std()\n",
        "print(\"Limite superior permitido\", Limite_Superior)\n",
        "print(\"Limite inferior permitido\", Limite_Inferior)"
      ],
      "metadata": {
        "colab": {
          "base_uri": "https://localhost:8080/"
        },
        "id": "Zw0-KA6dG4ap",
        "outputId": "89cea613-2d2a-4783-aed5-84877eee9b01"
      },
      "execution_count": null,
      "outputs": [
        {
          "output_type": "stream",
          "name": "stdout",
          "text": [
            "Limite superior permitido 14473003.904107107\n",
            "Limite inferior permitido -5606376.954814801\n"
          ]
        }
      ]
    },
    {
      "cell_type": "code",
      "source": [
        "#Realizamos diagrama de caja o bigote\n",
        "fig = plt.figure(figsize =(5, 3))\n",
        "plt.boxplot(data_clean[\"electronicos_articulos_hogar\"]) \n",
        "plt.title(\"Outliers de electronicos_articulos_hogar\")\n",
        "plt.show() #dibujamos el diagrama"
      ],
      "metadata": {
        "colab": {
          "base_uri": "https://localhost:8080/",
          "height": 334
        },
        "id": "oyeCToXXHCGW",
        "outputId": "899d6fad-9820-4605-c2ff-3984e0709aaa"
      },
      "execution_count": null,
      "outputs": [
        {
          "output_type": "display_data",
          "data": {
            "text/plain": [
              "<Figure size 500x300 with 1 Axes>"
            ],
            "image/png": "[encoded data removed]"
          },
          "metadata": {}
        }
      ]
    },
    {
      "cell_type": "code",
      "source": [
        "#Método aplicando Cuartiles. Encuentro cuartiles 0.25 y 0.75\n",
        "y=df[\"electronicos_articulos_hogar\"]\n",
        "\n",
        "percentile25=y.quantile(0.25) #Q1\n",
        "percentile75=y.quantile(0.75) #Q3\n",
        "iqr= percentile75 - percentile25\n",
        "\n",
        "Limite_Superior_iqr= percentile75 + 1.5*iqr\n",
        "Limite_Inferior_iqr= percentile25 - 1.5*iqr\n",
        "print(\"Limite superior permitido\", Limite_Superior_iqr)\n",
        "print(\"Limite inferior permitido\", Limite_Inferior_iqr)"
      ],
      "metadata": {
        "colab": {
          "base_uri": "https://localhost:8080/"
        },
        "id": "3hG141bRHIdn",
        "outputId": "52a7b1b9-04e7-499c-c250-8c555028b8f9"
      },
      "execution_count": 44,
      "outputs": [
        {
          "output_type": "stream",
          "name": "stdout",
          "text": [
            "Limite superior permitido 12049402.125999998\n",
            "Limite inferior permitido -3970031.778\n"
          ]
        }
      ]
    },
    {
      "cell_type": "code",
      "source": [
        "outliers_iqr_electronicos_articulos_hogar= df['electronicos_articulos_hogar'][(y>Limite_Superior_iqr)|(y<Limite_Inferior_iqr)]\n",
        "outliers_iqr_electronicos_articulos_hogar"
      ],
      "metadata": {
        "colab": {
          "base_uri": "https://localhost:8080/"
        },
        "id": "dtHNlVdEbkqq",
        "outputId": "2c6c2a03-f85b-4c94-dc9f-d77390d7a64e"
      },
      "execution_count": 45,
      "outputs": [
        {
          "output_type": "execute_result",
          "data": {
            "text/plain": [
              "58    12754368.89\n",
              "59    12669269.76\n",
              "60    12187552.35\n",
              "Name: electronicos_articulos_hogar, dtype: float64"
            ]
          },
          "metadata": {},
          "execution_count": 45
        }
      ]
    },
    {
      "cell_type": "code",
      "source": [
        "#Realizamos diagrama de caja o bigote\n",
        "fig = plt.figure(figsize =(5, 3))\n",
        "plt.boxplot(data_clean_iqr[\"electronicos_articulos_hogar\"]) \n",
        "plt.title(\"Outliers de electronicos_articulos_hogar\")\n",
        "plt.show() #dibujamos el diagrama "
      ],
      "metadata": {
        "colab": {
          "base_uri": "https://localhost:8080/",
          "height": 334
        },
        "id": "CRqJuVNKHQDQ",
        "outputId": "7c50627e-a9b2-437b-801d-e22861fa1c8b"
      },
      "execution_count": null,
      "outputs": [
        {
          "output_type": "display_data",
          "data": {
            "text/plain": [
              "<Figure size 500x300 with 1 Axes>"
            ],
            "image/png": "[encoded data removed]"
          },
          "metadata": {}
        }
      ]
    },
    {
      "cell_type": "markdown",
      "source": [
        "## otros"
      ],
      "metadata": {
        "id": "Q2NzFINqHYlZ"
      }
    },
    {
      "cell_type": "code",
      "source": [
        "y=df[\"otros\"]\n",
        "Limite_Superior= y.mean() + 3*y.std()\n",
        "Limite_Inferior= y.mean() - 3*y.std()\n",
        "print(\"Limite superior permitido\", Limite_Superior)\n",
        "print(\"Limite inferior permitido\", Limite_Inferior)"
      ],
      "metadata": {
        "colab": {
          "base_uri": "https://localhost:8080/"
        },
        "id": "gVdMMWZ4HbzP",
        "outputId": "28b29e98-478c-4131-af40-caa7fdfe7094"
      },
      "execution_count": null,
      "outputs": [
        {
          "output_type": "stream",
          "name": "stdout",
          "text": [
            "Limite superior permitido 15951727.352466527\n",
            "Limite inferior permitido -5110613.031420373\n"
          ]
        }
      ]
    },
    {
      "cell_type": "code",
      "source": [
        "#Realizamos diagrama de caja o bigote\n",
        "fig = plt.figure(figsize =(5, 3))\n",
        "plt.boxplot(data_clean[\"otros\"]) \n",
        "plt.title(\"Outliers de otros\")\n",
        "plt.show() #dibujamos el diagrama"
      ],
      "metadata": {
        "colab": {
          "base_uri": "https://localhost:8080/",
          "height": 334
        },
        "id": "CnXcEmf-HhB4",
        "outputId": "c20b6471-ed0e-4f26-a098-2dadeb3c795b"
      },
      "execution_count": null,
      "outputs": [
        {
          "output_type": "display_data",
          "data": {
            "text/plain": [
              "<Figure size 500x300 with 1 Axes>"
            ],
            "image/png": "[encoded data removed]"
          },
          "metadata": {}
        }
      ]
    },
    {
      "cell_type": "code",
      "source": [
        "#Método aplicando Cuartiles. Encuentro cuartiles 0.25 y 0.75\n",
        "y=df[\"otros\"]\n",
        "\n",
        "percentile25=y.quantile(0.25) #Q1\n",
        "percentile75=y.quantile(0.75) #Q3\n",
        "iqr= percentile75 - percentile25\n",
        "\n",
        "Limite_Superior_iqr= percentile75 + 1.5*iqr\n",
        "Limite_Inferior_iqr= percentile25 - 1.5*iqr\n",
        "print(\"Limite superior permitido\", Limite_Superior_iqr)\n",
        "print(\"Limite inferior permitido\", Limite_Inferior_iqr)"
      ],
      "metadata": {
        "colab": {
          "base_uri": "https://localhost:8080/"
        },
        "id": "00OAQDgiHpPw",
        "outputId": "02008c1d-ca14-4f4b-a5be-36d48783d86f"
      },
      "execution_count": 46,
      "outputs": [
        {
          "output_type": "stream",
          "name": "stdout",
          "text": [
            "Limite superior permitido 13645555.3675\n",
            "Limite inferior permitido -3393986.2364999987\n"
          ]
        }
      ]
    },
    {
      "cell_type": "code",
      "source": [
        "outliers_iqr_otros= df['otros'][(y>Limite_Superior_iqr)|(y<Limite_Inferior_iqr)]\n",
        "outliers_iqr_otros"
      ],
      "metadata": {
        "colab": {
          "base_uri": "https://localhost:8080/"
        },
        "id": "mX0fXYUNbvL8",
        "outputId": "da8dfc30-d734-445a-f5c2-ca1d0c73f2cf"
      },
      "execution_count": 47,
      "outputs": [
        {
          "output_type": "execute_result",
          "data": {
            "text/plain": [
              "59    16665123.15\n",
              "Name: otros, dtype: float64"
            ]
          },
          "metadata": {},
          "execution_count": 47
        }
      ]
    },
    {
      "cell_type": "code",
      "source": [
        "#Realizamos diagrama de caja o bigote\n",
        "fig = plt.figure(figsize =(5, 3))\n",
        "plt.boxplot(data_clean_iqr[\"otros\"]) \n",
        "plt.title(\"Outliers de otros\")\n",
        "plt.show() #dibujamos el diagrama "
      ],
      "metadata": {
        "colab": {
          "base_uri": "https://localhost:8080/",
          "height": 334
        },
        "id": "EmOTXPmoHyJr",
        "outputId": "af4c3a7c-f660-456c-9507-412d6a5c097e"
      },
      "execution_count": null,
      "outputs": [
        {
          "output_type": "display_data",
          "data": {
            "text/plain": [
              "<Figure size 500x300 with 1 Axes>"
            ],
            "image/png": "[encoded data removed]"
          },
          "metadata": {}
        }
      ]
    },
    {
      "cell_type": "markdown",
      "source": [
        "archivos a csv"
      ],
      "metadata": {
        "id": "V5yuXGKZdECo"
      }
    },
    {
      "cell_type": "code",
      "source": [
        "#Convertir archivo filtrado a CSV\n",
        "outliers_iqr_ventas_precios_corrientes.to_csv(\"ventas_precios_corrientes.csv\")\n",
        "from google.colab import files \n",
        "  \n",
        "  \n",
        "files.download(\"ventas_precios_corrientes.csv\")"
      ],
      "metadata": {
        "colab": {
          "base_uri": "https://localhost:8080/",
          "height": 60
        },
        "id": "lTAaLW5q9Yr4",
        "outputId": "b46465bf-cefd-46d3-db2e-a324597a1d3c"
      },
      "execution_count": 55,
      "outputs": [
        {
          "output_type": "display_data",
          "data": {
            "text/plain": [
              "<IPython.core.display.Javascript object>"
            ],
            "application/javascript": [
              "\n",
              "    async function download(id, filename, size) {\n",
              "      if (!google.colab.kernel.accessAllowed) {\n",
              "        return;\n",
              "      }\n",
              "      const div = document.createElement('div');\n",
              "      const label = document.createElement('label');\n",
              "      label.textContent = `Downloading \"${filename}\": `;\n",
              "      div.appendChild(label);\n",
              "      const progress = document.createElement('progress');\n",
              "      progress.max = size;\n",
              "      div.appendChild(progress);\n",
              "      document.body.appendChild(div);\n",
              "\n",
              "      const buffers = [];\n",
              "      let downloaded = 0;\n",
              "\n",
              "      const channel = await google.colab.kernel.comms.open(id);\n",
              "      // Send a message to notify the kernel that we're ready.\n",
              "      channel.send({})\n",
              "\n",
              "      for await (const message of channel.messages) {\n",
              "        // Send a message to notify the kernel that we're ready.\n",
              "        channel.send({})\n",
              "        if (message.buffers) {\n",
              "          for (const buffer of message.buffers) {\n",
              "            buffers.push(buffer);\n",
              "            downloaded += buffer.byteLength;\n",
              "            progress.value = downloaded;\n",
              "          }\n",
              "        }\n",
              "      }\n",
              "      const blob = new Blob(buffers, {type: 'application/binary'});\n",
              "      const a = document.createElement('a');\n",
              "      a.href = window.URL.createObjectURL(blob);\n",
              "      a.download = filename;\n",
              "      div.appendChild(a);\n",
              "      a.click();\n",
              "      div.remove();\n",
              "    }\n",
              "  "
            ]
          },
          "metadata": {}
        },
        {
          "output_type": "display_data",
          "data": {
            "text/plain": [
              "<IPython.core.display.Javascript object>"
            ],
            "application/javascript": [
              "download(\"download_9d304598-ba93-4642-a923-d8059472d5b8\", \"ventas_precios_corrientes.csv\", 39)"
            ]
          },
          "metadata": {}
        }
      ]
    },
    {
      "cell_type": "code",
      "source": [
        "#Convertir archivo filtrado a CSV\n",
        "outliers_iqr_ventas_precios_constantes.to_csv(\"ventas_precios_constantes.csv\")\n",
        "from google.colab import files \n",
        "  \n",
        "  \n",
        "files.download(\"ventas_precios_constantes.csv\")"
      ],
      "metadata": {
        "colab": {
          "base_uri": "https://localhost:8080/",
          "height": 60
        },
        "id": "iEFx6Zx4cDAJ",
        "outputId": "5e496a69-2ea2-43ff-b051-46f460907cce"
      },
      "execution_count": 56,
      "outputs": [
        {
          "output_type": "display_data",
          "data": {
            "text/plain": [
              "<IPython.core.display.Javascript object>"
            ],
            "application/javascript": [
              "\n",
              "    async function download(id, filename, size) {\n",
              "      if (!google.colab.kernel.accessAllowed) {\n",
              "        return;\n",
              "      }\n",
              "      const div = document.createElement('div');\n",
              "      const label = document.createElement('label');\n",
              "      label.textContent = `Downloading \"${filename}\": `;\n",
              "      div.appendChild(label);\n",
              "      const progress = document.createElement('progress');\n",
              "      progress.max = size;\n",
              "      div.appendChild(progress);\n",
              "      document.body.appendChild(div);\n",
              "\n",
              "      const buffers = [];\n",
              "      let downloaded = 0;\n",
              "\n",
              "      const channel = await google.colab.kernel.comms.open(id);\n",
              "      // Send a message to notify the kernel that we're ready.\n",
              "      channel.send({})\n",
              "\n",
              "      for await (const message of channel.messages) {\n",
              "        // Send a message to notify the kernel that we're ready.\n",
              "        channel.send({})\n",
              "        if (message.buffers) {\n",
              "          for (const buffer of message.buffers) {\n",
              "            buffers.push(buffer);\n",
              "            downloaded += buffer.byteLength;\n",
              "            progress.value = downloaded;\n",
              "          }\n",
              "        }\n",
              "      }\n",
              "      const blob = new Blob(buffers, {type: 'application/binary'});\n",
              "      const a = document.createElement('a');\n",
              "      a.href = window.URL.createObjectURL(blob);\n",
              "      a.download = filename;\n",
              "      div.appendChild(a);\n",
              "      a.click();\n",
              "      div.remove();\n",
              "    }\n",
              "  "
            ]
          },
          "metadata": {}
        },
        {
          "output_type": "display_data",
          "data": {
            "text/plain": [
              "<IPython.core.display.Javascript object>"
            ],
            "application/javascript": [
              "download(\"download_27959002-1391-433c-adfa-09b0e69d2b60\", \"ventas_precios_constantes.csv\", 60)"
            ]
          },
          "metadata": {}
        }
      ]
    },
    {
      "cell_type": "code",
      "source": [
        "#Convertir archivo filtrado a CSV\n",
        "outliers_iqr_ventas_totales_canal_venta.to_csv(\"ventas_totales_canal_venta.csv\")\n",
        "from google.colab import files \n",
        "  \n",
        "  \n",
        "files.download(\"ventas_totales_canal_venta.csv\")"
      ],
      "metadata": {
        "colab": {
          "base_uri": "https://localhost:8080/",
          "height": 60
        },
        "id": "k7zPc5DkdRos",
        "outputId": "6484dd45-2672-458d-893f-52fb0511583b"
      },
      "execution_count": 57,
      "outputs": [
        {
          "output_type": "display_data",
          "data": {
            "text/plain": [
              "<IPython.core.display.Javascript object>"
            ],
            "application/javascript": [
              "\n",
              "    async function download(id, filename, size) {\n",
              "      if (!google.colab.kernel.accessAllowed) {\n",
              "        return;\n",
              "      }\n",
              "      const div = document.createElement('div');\n",
              "      const label = document.createElement('label');\n",
              "      label.textContent = `Downloading \"${filename}\": `;\n",
              "      div.appendChild(label);\n",
              "      const progress = document.createElement('progress');\n",
              "      progress.max = size;\n",
              "      div.appendChild(progress);\n",
              "      document.body.appendChild(div);\n",
              "\n",
              "      const buffers = [];\n",
              "      let downloaded = 0;\n",
              "\n",
              "      const channel = await google.colab.kernel.comms.open(id);\n",
              "      // Send a message to notify the kernel that we're ready.\n",
              "      channel.send({})\n",
              "\n",
              "      for await (const message of channel.messages) {\n",
              "        // Send a message to notify the kernel that we're ready.\n",
              "        channel.send({})\n",
              "        if (message.buffers) {\n",
              "          for (const buffer of message.buffers) {\n",
              "            buffers.push(buffer);\n",
              "            downloaded += buffer.byteLength;\n",
              "            progress.value = downloaded;\n",
              "          }\n",
              "        }\n",
              "      }\n",
              "      const blob = new Blob(buffers, {type: 'application/binary'});\n",
              "      const a = document.createElement('a');\n",
              "      a.href = window.URL.createObjectURL(blob);\n",
              "      a.download = filename;\n",
              "      div.appendChild(a);\n",
              "      a.click();\n",
              "      div.remove();\n",
              "    }\n",
              "  "
            ]
          },
          "metadata": {}
        },
        {
          "output_type": "display_data",
          "data": {
            "text/plain": [
              "<IPython.core.display.Javascript object>"
            ],
            "application/javascript": [
              "download(\"download_15b991af-4714-4b0e-b788-49ef3fbde9e2\", \"ventas_totales_canal_venta.csv\", 973)"
            ]
          },
          "metadata": {}
        }
      ]
    },
    {
      "cell_type": "code",
      "source": [
        "#Convertir archivo filtrado a CSV\n",
        "outliers_iqr_salon_ventas.to_csv(\"salon_ventas.csv\")\n",
        "from google.colab import files \n",
        "  \n",
        "  \n",
        "files.download(\"salon_ventas.csv\")"
      ],
      "metadata": {
        "colab": {
          "base_uri": "https://localhost:8080/",
          "height": 60
        },
        "id": "pnksbvrRdbHh",
        "outputId": "9c798616-0cf3-4beb-a8e3-b8238523279f"
      },
      "execution_count": 58,
      "outputs": [
        {
          "output_type": "display_data",
          "data": {
            "text/plain": [
              "<IPython.core.display.Javascript object>"
            ],
            "application/javascript": [
              "\n",
              "    async function download(id, filename, size) {\n",
              "      if (!google.colab.kernel.accessAllowed) {\n",
              "        return;\n",
              "      }\n",
              "      const div = document.createElement('div');\n",
              "      const label = document.createElement('label');\n",
              "      label.textContent = `Downloading \"${filename}\": `;\n",
              "      div.appendChild(label);\n",
              "      const progress = document.createElement('progress');\n",
              "      progress.max = size;\n",
              "      div.appendChild(progress);\n",
              "      document.body.appendChild(div);\n",
              "\n",
              "      const buffers = [];\n",
              "      let downloaded = 0;\n",
              "\n",
              "      const channel = await google.colab.kernel.comms.open(id);\n",
              "      // Send a message to notify the kernel that we're ready.\n",
              "      channel.send({})\n",
              "\n",
              "      for await (const message of channel.messages) {\n",
              "        // Send a message to notify the kernel that we're ready.\n",
              "        channel.send({})\n",
              "        if (message.buffers) {\n",
              "          for (const buffer of message.buffers) {\n",
              "            buffers.push(buffer);\n",
              "            downloaded += buffer.byteLength;\n",
              "            progress.value = downloaded;\n",
              "          }\n",
              "        }\n",
              "      }\n",
              "      const blob = new Blob(buffers, {type: 'application/binary'});\n",
              "      const a = document.createElement('a');\n",
              "      a.href = window.URL.createObjectURL(blob);\n",
              "      a.download = filename;\n",
              "      div.appendChild(a);\n",
              "      a.click();\n",
              "      div.remove();\n",
              "    }\n",
              "  "
            ]
          },
          "metadata": {}
        },
        {
          "output_type": "display_data",
          "data": {
            "text/plain": [
              "<IPython.core.display.Javascript object>"
            ],
            "application/javascript": [
              "download(\"download_9cf2dbd1-6a00-4ac5-96c8-8aefaf712d4d\", \"salon_ventas.csv\", 59)"
            ]
          },
          "metadata": {}
        }
      ]
    },
    {
      "cell_type": "code",
      "source": [
        "#Convertir archivo filtrado a CSV\n",
        "outliers_iqr_ventas_totales_medio_pago.to_csv(\"ventas_totales_medio_pago.csv\")\n",
        "from google.colab import files \n",
        "  \n",
        "  \n",
        "files.download(\"ventas_totales_medio_pago.csv\")"
      ],
      "metadata": {
        "colab": {
          "base_uri": "https://localhost:8080/",
          "height": 60
        },
        "id": "r3BgOs5MdlAN",
        "outputId": "4455610e-9bc0-4556-c463-6668093c1c04"
      },
      "execution_count": 59,
      "outputs": [
        {
          "output_type": "display_data",
          "data": {
            "text/plain": [
              "<IPython.core.display.Javascript object>"
            ],
            "application/javascript": [
              "\n",
              "    async function download(id, filename, size) {\n",
              "      if (!google.colab.kernel.accessAllowed) {\n",
              "        return;\n",
              "      }\n",
              "      const div = document.createElement('div');\n",
              "      const label = document.createElement('label');\n",
              "      label.textContent = `Downloading \"${filename}\": `;\n",
              "      div.appendChild(label);\n",
              "      const progress = document.createElement('progress');\n",
              "      progress.max = size;\n",
              "      div.appendChild(progress);\n",
              "      document.body.appendChild(div);\n",
              "\n",
              "      const buffers = [];\n",
              "      let downloaded = 0;\n",
              "\n",
              "      const channel = await google.colab.kernel.comms.open(id);\n",
              "      // Send a message to notify the kernel that we're ready.\n",
              "      channel.send({})\n",
              "\n",
              "      for await (const message of channel.messages) {\n",
              "        // Send a message to notify the kernel that we're ready.\n",
              "        channel.send({})\n",
              "        if (message.buffers) {\n",
              "          for (const buffer of message.buffers) {\n",
              "            buffers.push(buffer);\n",
              "            downloaded += buffer.byteLength;\n",
              "            progress.value = downloaded;\n",
              "          }\n",
              "        }\n",
              "      }\n",
              "      const blob = new Blob(buffers, {type: 'application/binary'});\n",
              "      const a = document.createElement('a');\n",
              "      a.href = window.URL.createObjectURL(blob);\n",
              "      a.download = filename;\n",
              "      div.appendChild(a);\n",
              "      a.click();\n",
              "      div.remove();\n",
              "    }\n",
              "  "
            ]
          },
          "metadata": {}
        },
        {
          "output_type": "display_data",
          "data": {
            "text/plain": [
              "<IPython.core.display.Javascript object>"
            ],
            "application/javascript": [
              "download(\"download_381e2111-84b3-4841-b2e0-21c17398b9d0\", \"ventas_totales_medio_pago.csv\", 72)"
            ]
          },
          "metadata": {}
        }
      ]
    },
    {
      "cell_type": "code",
      "source": [
        "#Convertir archivo filtrado a CSV\n",
        "outliers_iqr_tarjetas_debito.to_csv(\"tarjetas_debito.csv\")\n",
        "from google.colab import files \n",
        "  \n",
        "  \n",
        "files.download(\"tarjetas_debito.csv\")"
      ],
      "metadata": {
        "colab": {
          "base_uri": "https://localhost:8080/",
          "height": 60
        },
        "id": "BUPdeBl4dvHj",
        "outputId": "b11c6edc-2834-4a87-8eda-350db76bf729"
      },
      "execution_count": 60,
      "outputs": [
        {
          "output_type": "display_data",
          "data": {
            "text/plain": [
              "<IPython.core.display.Javascript object>"
            ],
            "application/javascript": [
              "\n",
              "    async function download(id, filename, size) {\n",
              "      if (!google.colab.kernel.accessAllowed) {\n",
              "        return;\n",
              "      }\n",
              "      const div = document.createElement('div');\n",
              "      const label = document.createElement('label');\n",
              "      label.textContent = `Downloading \"${filename}\": `;\n",
              "      div.appendChild(label);\n",
              "      const progress = document.createElement('progress');\n",
              "      progress.max = size;\n",
              "      div.appendChild(progress);\n",
              "      document.body.appendChild(div);\n",
              "\n",
              "      const buffers = [];\n",
              "      let downloaded = 0;\n",
              "\n",
              "      const channel = await google.colab.kernel.comms.open(id);\n",
              "      // Send a message to notify the kernel that we're ready.\n",
              "      channel.send({})\n",
              "\n",
              "      for await (const message of channel.messages) {\n",
              "        // Send a message to notify the kernel that we're ready.\n",
              "        channel.send({})\n",
              "        if (message.buffers) {\n",
              "          for (const buffer of message.buffers) {\n",
              "            buffers.push(buffer);\n",
              "            downloaded += buffer.byteLength;\n",
              "            progress.value = downloaded;\n",
              "          }\n",
              "        }\n",
              "      }\n",
              "      const blob = new Blob(buffers, {type: 'application/binary'});\n",
              "      const a = document.createElement('a');\n",
              "      a.href = window.URL.createObjectURL(blob);\n",
              "      a.download = filename;\n",
              "      div.appendChild(a);\n",
              "      a.click();\n",
              "      div.remove();\n",
              "    }\n",
              "  "
            ]
          },
          "metadata": {}
        },
        {
          "output_type": "display_data",
          "data": {
            "text/plain": [
              "<IPython.core.display.Javascript object>"
            ],
            "application/javascript": [
              "download(\"download_af3268b7-ce0a-48b9-bd14-749e4a0992e4\", \"tarjetas_debito.csv\", 32)"
            ]
          },
          "metadata": {}
        }
      ]
    },
    {
      "cell_type": "code",
      "source": [
        "#Convertir archivo filtrado a CSV\n",
        "outliers_iqr_tarjetas_credito.to_csv(\"tarjetas_credito.csv\")\n",
        "from google.colab import files \n",
        "  \n",
        "  \n",
        "files.download(\"tarjetas_credito.csv\")"
      ],
      "metadata": {
        "colab": {
          "base_uri": "https://localhost:8080/",
          "height": 60
        },
        "id": "Xu2qEM6dd4rw",
        "outputId": "ecf14c53-e07c-47f7-86d3-6afdd7a3805f"
      },
      "execution_count": 61,
      "outputs": [
        {
          "output_type": "display_data",
          "data": {
            "text/plain": [
              "<IPython.core.display.Javascript object>"
            ],
            "application/javascript": [
              "\n",
              "    async function download(id, filename, size) {\n",
              "      if (!google.colab.kernel.accessAllowed) {\n",
              "        return;\n",
              "      }\n",
              "      const div = document.createElement('div');\n",
              "      const label = document.createElement('label');\n",
              "      label.textContent = `Downloading \"${filename}\": `;\n",
              "      div.appendChild(label);\n",
              "      const progress = document.createElement('progress');\n",
              "      progress.max = size;\n",
              "      div.appendChild(progress);\n",
              "      document.body.appendChild(div);\n",
              "\n",
              "      const buffers = [];\n",
              "      let downloaded = 0;\n",
              "\n",
              "      const channel = await google.colab.kernel.comms.open(id);\n",
              "      // Send a message to notify the kernel that we're ready.\n",
              "      channel.send({})\n",
              "\n",
              "      for await (const message of channel.messages) {\n",
              "        // Send a message to notify the kernel that we're ready.\n",
              "        channel.send({})\n",
              "        if (message.buffers) {\n",
              "          for (const buffer of message.buffers) {\n",
              "            buffers.push(buffer);\n",
              "            downloaded += buffer.byteLength;\n",
              "            progress.value = downloaded;\n",
              "          }\n",
              "        }\n",
              "      }\n",
              "      const blob = new Blob(buffers, {type: 'application/binary'});\n",
              "      const a = document.createElement('a');\n",
              "      a.href = window.URL.createObjectURL(blob);\n",
              "      a.download = filename;\n",
              "      div.appendChild(a);\n",
              "      a.click();\n",
              "      div.remove();\n",
              "    }\n",
              "  "
            ]
          },
          "metadata": {}
        },
        {
          "output_type": "display_data",
          "data": {
            "text/plain": [
              "<IPython.core.display.Javascript object>"
            ],
            "application/javascript": [
              "download(\"download_1437cec2-471a-4c79-83a8-a607d7df5023\", \"tarjetas_credito.csv\", 33)"
            ]
          },
          "metadata": {}
        }
      ]
    },
    {
      "cell_type": "code",
      "source": [
        "#Convertir archivo filtrado a CSV\n",
        "outliers_iqr_ventas_totales_grupo_articulos.to_csv(\"ventas_totales_grupo_articulos.csv\")\n",
        "from google.colab import files \n",
        "  \n",
        "  \n",
        "files.download(\"ventas_totales_grupo_articulos.csv\")"
      ],
      "metadata": {
        "colab": {
          "base_uri": "https://localhost:8080/",
          "height": 60
        },
        "id": "Mz8swr-Gd-BC",
        "outputId": "a8d353cf-b7a0-458d-aef9-a47dcb40d82f"
      },
      "execution_count": 62,
      "outputs": [
        {
          "output_type": "display_data",
          "data": {
            "text/plain": [
              "<IPython.core.display.Javascript object>"
            ],
            "application/javascript": [
              "\n",
              "    async function download(id, filename, size) {\n",
              "      if (!google.colab.kernel.accessAllowed) {\n",
              "        return;\n",
              "      }\n",
              "      const div = document.createElement('div');\n",
              "      const label = document.createElement('label');\n",
              "      label.textContent = `Downloading \"${filename}\": `;\n",
              "      div.appendChild(label);\n",
              "      const progress = document.createElement('progress');\n",
              "      progress.max = size;\n",
              "      div.appendChild(progress);\n",
              "      document.body.appendChild(div);\n",
              "\n",
              "      const buffers = [];\n",
              "      let downloaded = 0;\n",
              "\n",
              "      const channel = await google.colab.kernel.comms.open(id);\n",
              "      // Send a message to notify the kernel that we're ready.\n",
              "      channel.send({})\n",
              "\n",
              "      for await (const message of channel.messages) {\n",
              "        // Send a message to notify the kernel that we're ready.\n",
              "        channel.send({})\n",
              "        if (message.buffers) {\n",
              "          for (const buffer of message.buffers) {\n",
              "            buffers.push(buffer);\n",
              "            downloaded += buffer.byteLength;\n",
              "            progress.value = downloaded;\n",
              "          }\n",
              "        }\n",
              "      }\n",
              "      const blob = new Blob(buffers, {type: 'application/binary'});\n",
              "      const a = document.createElement('a');\n",
              "      a.href = window.URL.createObjectURL(blob);\n",
              "      a.download = filename;\n",
              "      div.appendChild(a);\n",
              "      a.click();\n",
              "      div.remove();\n",
              "    }\n",
              "  "
            ]
          },
          "metadata": {}
        },
        {
          "output_type": "display_data",
          "data": {
            "text/plain": [
              "<IPython.core.display.Javascript object>"
            ],
            "application/javascript": [
              "download(\"download_4bc4e413-1588-4c6c-ae80-e3c75a89dc35\", \"ventas_totales_grupo_articulos.csv\", 47)"
            ]
          },
          "metadata": {}
        }
      ]
    },
    {
      "cell_type": "code",
      "source": [
        "#Convertir archivo filtrado a CSV\n",
        "outliers_iqr_bebidas.to_csv(\"bebidas.csv\")\n",
        "from google.colab import files \n",
        "  \n",
        "  \n",
        "files.download(\"bebidas.csv\")"
      ],
      "metadata": {
        "colab": {
          "base_uri": "https://localhost:8080/",
          "height": 60
        },
        "id": "WztVIN4XeINA",
        "outputId": "c4d80671-c0ab-424c-fcfa-cb5dbb518e0f"
      },
      "execution_count": 63,
      "outputs": [
        {
          "output_type": "display_data",
          "data": {
            "text/plain": [
              "<IPython.core.display.Javascript object>"
            ],
            "application/javascript": [
              "\n",
              "    async function download(id, filename, size) {\n",
              "      if (!google.colab.kernel.accessAllowed) {\n",
              "        return;\n",
              "      }\n",
              "      const div = document.createElement('div');\n",
              "      const label = document.createElement('label');\n",
              "      label.textContent = `Downloading \"${filename}\": `;\n",
              "      div.appendChild(label);\n",
              "      const progress = document.createElement('progress');\n",
              "      progress.max = size;\n",
              "      div.appendChild(progress);\n",
              "      document.body.appendChild(div);\n",
              "\n",
              "      const buffers = [];\n",
              "      let downloaded = 0;\n",
              "\n",
              "      const channel = await google.colab.kernel.comms.open(id);\n",
              "      // Send a message to notify the kernel that we're ready.\n",
              "      channel.send({})\n",
              "\n",
              "      for await (const message of channel.messages) {\n",
              "        // Send a message to notify the kernel that we're ready.\n",
              "        channel.send({})\n",
              "        if (message.buffers) {\n",
              "          for (const buffer of message.buffers) {\n",
              "            buffers.push(buffer);\n",
              "            downloaded += buffer.byteLength;\n",
              "            progress.value = downloaded;\n",
              "          }\n",
              "        }\n",
              "      }\n",
              "      const blob = new Blob(buffers, {type: 'application/binary'});\n",
              "      const a = document.createElement('a');\n",
              "      a.href = window.URL.createObjectURL(blob);\n",
              "      a.download = filename;\n",
              "      div.appendChild(a);\n",
              "      a.click();\n",
              "      div.remove();\n",
              "    }\n",
              "  "
            ]
          },
          "metadata": {}
        },
        {
          "output_type": "display_data",
          "data": {
            "text/plain": [
              "<IPython.core.display.Javascript object>"
            ],
            "application/javascript": [
              "download(\"download_072eacc3-e47e-4386-9341-ae42d5c3097d\", \"bebidas.csv\", 24)"
            ]
          },
          "metadata": {}
        }
      ]
    },
    {
      "cell_type": "code",
      "source": [
        "#Convertir archivo filtrado a CSV\n",
        "outliers_iqr_almacen.to_csv(\"almacen.csv\")\n",
        "from google.colab import files \n",
        "  \n",
        "  \n",
        "files.download(\"almacen.csv\")"
      ],
      "metadata": {
        "colab": {
          "base_uri": "https://localhost:8080/",
          "height": 60
        },
        "id": "Su_s0ctrePC5",
        "outputId": "262e8011-60dc-4f28-dcb2-ffdc0447f1d9"
      },
      "execution_count": 64,
      "outputs": [
        {
          "output_type": "display_data",
          "data": {
            "text/plain": [
              "<IPython.core.display.Javascript object>"
            ],
            "application/javascript": [
              "\n",
              "    async function download(id, filename, size) {\n",
              "      if (!google.colab.kernel.accessAllowed) {\n",
              "        return;\n",
              "      }\n",
              "      const div = document.createElement('div');\n",
              "      const label = document.createElement('label');\n",
              "      label.textContent = `Downloading \"${filename}\": `;\n",
              "      div.appendChild(label);\n",
              "      const progress = document.createElement('progress');\n",
              "      progress.max = size;\n",
              "      div.appendChild(progress);\n",
              "      document.body.appendChild(div);\n",
              "\n",
              "      const buffers = [];\n",
              "      let downloaded = 0;\n",
              "\n",
              "      const channel = await google.colab.kernel.comms.open(id);\n",
              "      // Send a message to notify the kernel that we're ready.\n",
              "      channel.send({})\n",
              "\n",
              "      for await (const message of channel.messages) {\n",
              "        // Send a message to notify the kernel that we're ready.\n",
              "        channel.send({})\n",
              "        if (message.buffers) {\n",
              "          for (const buffer of message.buffers) {\n",
              "            buffers.push(buffer);\n",
              "            downloaded += buffer.byteLength;\n",
              "            progress.value = downloaded;\n",
              "          }\n",
              "        }\n",
              "      }\n",
              "      const blob = new Blob(buffers, {type: 'application/binary'});\n",
              "      const a = document.createElement('a');\n",
              "      a.href = window.URL.createObjectURL(blob);\n",
              "      a.download = filename;\n",
              "      div.appendChild(a);\n",
              "      a.click();\n",
              "      div.remove();\n",
              "    }\n",
              "  "
            ]
          },
          "metadata": {}
        },
        {
          "output_type": "display_data",
          "data": {
            "text/plain": [
              "<IPython.core.display.Javascript object>"
            ],
            "application/javascript": [
              "download(\"download_8145bc6f-005b-4540-a391-8de5f2f41555\", \"almacen.csv\", 9)"
            ]
          },
          "metadata": {}
        }
      ]
    },
    {
      "cell_type": "code",
      "source": [
        "#Convertir archivo filtrado a CSV\n",
        "outliers_iqr_panaderia.to_csv(\"panaderia.csv\")\n",
        "from google.colab import files \n",
        "  \n",
        "  \n",
        "files.download(\"panaderia.csv\")"
      ],
      "metadata": {
        "colab": {
          "base_uri": "https://localhost:8080/",
          "height": 60
        },
        "id": "pCXLdyXveTtV",
        "outputId": "9e369426-16ec-45ef-ca8a-02317c236f79"
      },
      "execution_count": 65,
      "outputs": [
        {
          "output_type": "display_data",
          "data": {
            "text/plain": [
              "<IPython.core.display.Javascript object>"
            ],
            "application/javascript": [
              "\n",
              "    async function download(id, filename, size) {\n",
              "      if (!google.colab.kernel.accessAllowed) {\n",
              "        return;\n",
              "      }\n",
              "      const div = document.createElement('div');\n",
              "      const label = document.createElement('label');\n",
              "      label.textContent = `Downloading \"${filename}\": `;\n",
              "      div.appendChild(label);\n",
              "      const progress = document.createElement('progress');\n",
              "      progress.max = size;\n",
              "      div.appendChild(progress);\n",
              "      document.body.appendChild(div);\n",
              "\n",
              "      const buffers = [];\n",
              "      let downloaded = 0;\n",
              "\n",
              "      const channel = await google.colab.kernel.comms.open(id);\n",
              "      // Send a message to notify the kernel that we're ready.\n",
              "      channel.send({})\n",
              "\n",
              "      for await (const message of channel.messages) {\n",
              "        // Send a message to notify the kernel that we're ready.\n",
              "        channel.send({})\n",
              "        if (message.buffers) {\n",
              "          for (const buffer of message.buffers) {\n",
              "            buffers.push(buffer);\n",
              "            downloaded += buffer.byteLength;\n",
              "            progress.value = downloaded;\n",
              "          }\n",
              "        }\n",
              "      }\n",
              "      const blob = new Blob(buffers, {type: 'application/binary'});\n",
              "      const a = document.createElement('a');\n",
              "      a.href = window.URL.createObjectURL(blob);\n",
              "      a.download = filename;\n",
              "      div.appendChild(a);\n",
              "      a.click();\n",
              "      div.remove();\n",
              "    }\n",
              "  "
            ]
          },
          "metadata": {}
        },
        {
          "output_type": "display_data",
          "data": {
            "text/plain": [
              "<IPython.core.display.Javascript object>"
            ],
            "application/javascript": [
              "download(\"download_64a144b4-7657-44a1-8fe3-f0d12a5f6350\", \"panaderia.csv\", 71)"
            ]
          },
          "metadata": {}
        }
      ]
    },
    {
      "cell_type": "code",
      "source": [
        "#Convertir archivo filtrado a CSV\n",
        "outliers_iqr_lacteos.to_csv(\"lacteos.csv\")\n",
        "from google.colab import files \n",
        "  \n",
        "  \n",
        "files.download(\"lacteos.csv\")"
      ],
      "metadata": {
        "colab": {
          "base_uri": "https://localhost:8080/",
          "height": 60
        },
        "id": "SOUbk_xYeZpF",
        "outputId": "bb61a821-9952-4a13-dc7b-c43a101f0130"
      },
      "execution_count": 66,
      "outputs": [
        {
          "output_type": "display_data",
          "data": {
            "text/plain": [
              "<IPython.core.display.Javascript object>"
            ],
            "application/javascript": [
              "\n",
              "    async function download(id, filename, size) {\n",
              "      if (!google.colab.kernel.accessAllowed) {\n",
              "        return;\n",
              "      }\n",
              "      const div = document.createElement('div');\n",
              "      const label = document.createElement('label');\n",
              "      label.textContent = `Downloading \"${filename}\": `;\n",
              "      div.appendChild(label);\n",
              "      const progress = document.createElement('progress');\n",
              "      progress.max = size;\n",
              "      div.appendChild(progress);\n",
              "      document.body.appendChild(div);\n",
              "\n",
              "      const buffers = [];\n",
              "      let downloaded = 0;\n",
              "\n",
              "      const channel = await google.colab.kernel.comms.open(id);\n",
              "      // Send a message to notify the kernel that we're ready.\n",
              "      channel.send({})\n",
              "\n",
              "      for await (const message of channel.messages) {\n",
              "        // Send a message to notify the kernel that we're ready.\n",
              "        channel.send({})\n",
              "        if (message.buffers) {\n",
              "          for (const buffer of message.buffers) {\n",
              "            buffers.push(buffer);\n",
              "            downloaded += buffer.byteLength;\n",
              "            progress.value = downloaded;\n",
              "          }\n",
              "        }\n",
              "      }\n",
              "      const blob = new Blob(buffers, {type: 'application/binary'});\n",
              "      const a = document.createElement('a');\n",
              "      a.href = window.URL.createObjectURL(blob);\n",
              "      a.download = filename;\n",
              "      div.appendChild(a);\n",
              "      a.click();\n",
              "      div.remove();\n",
              "    }\n",
              "  "
            ]
          },
          "metadata": {}
        },
        {
          "output_type": "display_data",
          "data": {
            "text/plain": [
              "<IPython.core.display.Javascript object>"
            ],
            "application/javascript": [
              "download(\"download_3b0ffbc9-411e-4d92-b141-f816d2430568\", \"lacteos.csv\", 24)"
            ]
          },
          "metadata": {}
        }
      ]
    },
    {
      "cell_type": "code",
      "source": [
        "#Convertir archivo filtrado a CSV\n",
        "outliers_iqr_alimentos_preparados_rotiseria.to_csv(\"alimentos_preparados_rotiseria.csv\")\n",
        "from google.colab import files \n",
        "  \n",
        "  \n",
        "files.download(\"alimentos_preparados_rotiseria.csv\")"
      ],
      "metadata": {
        "colab": {
          "base_uri": "https://localhost:8080/",
          "height": 60
        },
        "id": "GTcLS2OXefSj",
        "outputId": "22bebed8-cee7-4789-c911-bfe7332a86a0"
      },
      "execution_count": 67,
      "outputs": [
        {
          "output_type": "display_data",
          "data": {
            "text/plain": [
              "<IPython.core.display.Javascript object>"
            ],
            "application/javascript": [
              "\n",
              "    async function download(id, filename, size) {\n",
              "      if (!google.colab.kernel.accessAllowed) {\n",
              "        return;\n",
              "      }\n",
              "      const div = document.createElement('div');\n",
              "      const label = document.createElement('label');\n",
              "      label.textContent = `Downloading \"${filename}\": `;\n",
              "      div.appendChild(label);\n",
              "      const progress = document.createElement('progress');\n",
              "      progress.max = size;\n",
              "      div.appendChild(progress);\n",
              "      document.body.appendChild(div);\n",
              "\n",
              "      const buffers = [];\n",
              "      let downloaded = 0;\n",
              "\n",
              "      const channel = await google.colab.kernel.comms.open(id);\n",
              "      // Send a message to notify the kernel that we're ready.\n",
              "      channel.send({})\n",
              "\n",
              "      for await (const message of channel.messages) {\n",
              "        // Send a message to notify the kernel that we're ready.\n",
              "        channel.send({})\n",
              "        if (message.buffers) {\n",
              "          for (const buffer of message.buffers) {\n",
              "            buffers.push(buffer);\n",
              "            downloaded += buffer.byteLength;\n",
              "            progress.value = downloaded;\n",
              "          }\n",
              "        }\n",
              "      }\n",
              "      const blob = new Blob(buffers, {type: 'application/binary'});\n",
              "      const a = document.createElement('a');\n",
              "      a.href = window.URL.createObjectURL(blob);\n",
              "      a.download = filename;\n",
              "      div.appendChild(a);\n",
              "      a.click();\n",
              "      div.remove();\n",
              "    }\n",
              "  "
            ]
          },
          "metadata": {}
        },
        {
          "output_type": "display_data",
          "data": {
            "text/plain": [
              "<IPython.core.display.Javascript object>"
            ],
            "application/javascript": [
              "download(\"download_dc5c7e29-6567-4c10-8c83-d999df4c8d4c\", \"alimentos_preparados_rotiseria.csv\", 92)"
            ]
          },
          "metadata": {}
        }
      ]
    },
    {
      "cell_type": "code",
      "source": [
        "#Convertir archivo filtrado a CSV\n",
        "outliers_iqr_indumentaria_calzado_textiles_hogar.to_csv(\"indumentaria_calzado_textiles_hogar.csv\")\n",
        "from google.colab import files \n",
        "  \n",
        "  \n",
        "files.download(\"indumentaria_calzado_textiles_hogar.csv\")"
      ],
      "metadata": {
        "colab": {
          "base_uri": "https://localhost:8080/",
          "height": 60
        },
        "id": "TjLebD26enOS",
        "outputId": "c26c0266-62c2-4f38-edab-2a74247a3645"
      },
      "execution_count": 68,
      "outputs": [
        {
          "output_type": "display_data",
          "data": {
            "text/plain": [
              "<IPython.core.display.Javascript object>"
            ],
            "application/javascript": [
              "\n",
              "    async function download(id, filename, size) {\n",
              "      if (!google.colab.kernel.accessAllowed) {\n",
              "        return;\n",
              "      }\n",
              "      const div = document.createElement('div');\n",
              "      const label = document.createElement('label');\n",
              "      label.textContent = `Downloading \"${filename}\": `;\n",
              "      div.appendChild(label);\n",
              "      const progress = document.createElement('progress');\n",
              "      progress.max = size;\n",
              "      div.appendChild(progress);\n",
              "      document.body.appendChild(div);\n",
              "\n",
              "      const buffers = [];\n",
              "      let downloaded = 0;\n",
              "\n",
              "      const channel = await google.colab.kernel.comms.open(id);\n",
              "      // Send a message to notify the kernel that we're ready.\n",
              "      channel.send({})\n",
              "\n",
              "      for await (const message of channel.messages) {\n",
              "        // Send a message to notify the kernel that we're ready.\n",
              "        channel.send({})\n",
              "        if (message.buffers) {\n",
              "          for (const buffer of message.buffers) {\n",
              "            buffers.push(buffer);\n",
              "            downloaded += buffer.byteLength;\n",
              "            progress.value = downloaded;\n",
              "          }\n",
              "        }\n",
              "      }\n",
              "      const blob = new Blob(buffers, {type: 'application/binary'});\n",
              "      const a = document.createElement('a');\n",
              "      a.href = window.URL.createObjectURL(blob);\n",
              "      a.download = filename;\n",
              "      div.appendChild(a);\n",
              "      a.click();\n",
              "      div.remove();\n",
              "    }\n",
              "  "
            ]
          },
          "metadata": {}
        },
        {
          "output_type": "display_data",
          "data": {
            "text/plain": [
              "<IPython.core.display.Javascript object>"
            ],
            "application/javascript": [
              "download(\"download_8e650ef0-45d9-4440-a053-7fae735f33cd\", \"indumentaria_calzado_textiles_hogar.csv\", 82)"
            ]
          },
          "metadata": {}
        }
      ]
    },
    {
      "cell_type": "code",
      "source": [
        "#Convertir archivo filtrado a CSV\n",
        "outliers_iqr_electronicos_articulos_hogar.to_csv(\"electronicos_articulos_hogar.csv\")\n",
        "from google.colab import files \n",
        "  \n",
        "  \n",
        "files.download(\"electronicos_articulos_hogar.csv\")"
      ],
      "metadata": {
        "colab": {
          "base_uri": "https://localhost:8080/",
          "height": 60
        },
        "id": "vgwk9mEoewh6",
        "outputId": "f0d4a80a-7f11-4591-8d4e-ed614f10de53"
      },
      "execution_count": 69,
      "outputs": [
        {
          "output_type": "display_data",
          "data": {
            "text/plain": [
              "<IPython.core.display.Javascript object>"
            ],
            "application/javascript": [
              "\n",
              "    async function download(id, filename, size) {\n",
              "      if (!google.colab.kernel.accessAllowed) {\n",
              "        return;\n",
              "      }\n",
              "      const div = document.createElement('div');\n",
              "      const label = document.createElement('label');\n",
              "      label.textContent = `Downloading \"${filename}\": `;\n",
              "      div.appendChild(label);\n",
              "      const progress = document.createElement('progress');\n",
              "      progress.max = size;\n",
              "      div.appendChild(progress);\n",
              "      document.body.appendChild(div);\n",
              "\n",
              "      const buffers = [];\n",
              "      let downloaded = 0;\n",
              "\n",
              "      const channel = await google.colab.kernel.comms.open(id);\n",
              "      // Send a message to notify the kernel that we're ready.\n",
              "      channel.send({})\n",
              "\n",
              "      for await (const message of channel.messages) {\n",
              "        // Send a message to notify the kernel that we're ready.\n",
              "        channel.send({})\n",
              "        if (message.buffers) {\n",
              "          for (const buffer of message.buffers) {\n",
              "            buffers.push(buffer);\n",
              "            downloaded += buffer.byteLength;\n",
              "            progress.value = downloaded;\n",
              "          }\n",
              "        }\n",
              "      }\n",
              "      const blob = new Blob(buffers, {type: 'application/binary'});\n",
              "      const a = document.createElement('a');\n",
              "      a.href = window.URL.createObjectURL(blob);\n",
              "      a.download = filename;\n",
              "      div.appendChild(a);\n",
              "      a.click();\n",
              "      div.remove();\n",
              "    }\n",
              "  "
            ]
          },
          "metadata": {}
        },
        {
          "output_type": "display_data",
          "data": {
            "text/plain": [
              "<IPython.core.display.Javascript object>"
            ],
            "application/javascript": [
              "download(\"download_931c607c-6479-4eca-91ad-49f6f5c10558\", \"electronicos_articulos_hogar.csv\", 75)"
            ]
          },
          "metadata": {}
        }
      ]
    },
    {
      "cell_type": "code",
      "source": [
        "#Convertir archivo filtrado a CSV\n",
        "outliers_iqr_otros.to_csv(\"otros.csv\")\n",
        "from google.colab import files \n",
        "  \n",
        "  \n",
        "files.download(\"otros.csv\")"
      ],
      "metadata": {
        "colab": {
          "base_uri": "https://localhost:8080/",
          "height": 60
        },
        "id": "-Dvgcgh6e3Yb",
        "outputId": "602a2816-e93e-497e-de07-9843ba9103de"
      },
      "execution_count": 70,
      "outputs": [
        {
          "output_type": "display_data",
          "data": {
            "text/plain": [
              "<IPython.core.display.Javascript object>"
            ],
            "application/javascript": [
              "\n",
              "    async function download(id, filename, size) {\n",
              "      if (!google.colab.kernel.accessAllowed) {\n",
              "        return;\n",
              "      }\n",
              "      const div = document.createElement('div');\n",
              "      const label = document.createElement('label');\n",
              "      label.textContent = `Downloading \"${filename}\": `;\n",
              "      div.appendChild(label);\n",
              "      const progress = document.createElement('progress');\n",
              "      progress.max = size;\n",
              "      div.appendChild(progress);\n",
              "      document.body.appendChild(div);\n",
              "\n",
              "      const buffers = [];\n",
              "      let downloaded = 0;\n",
              "\n",
              "      const channel = await google.colab.kernel.comms.open(id);\n",
              "      // Send a message to notify the kernel that we're ready.\n",
              "      channel.send({})\n",
              "\n",
              "      for await (const message of channel.messages) {\n",
              "        // Send a message to notify the kernel that we're ready.\n",
              "        channel.send({})\n",
              "        if (message.buffers) {\n",
              "          for (const buffer of message.buffers) {\n",
              "            buffers.push(buffer);\n",
              "            downloaded += buffer.byteLength;\n",
              "            progress.value = downloaded;\n",
              "          }\n",
              "        }\n",
              "      }\n",
              "      const blob = new Blob(buffers, {type: 'application/binary'});\n",
              "      const a = document.createElement('a');\n",
              "      a.href = window.URL.createObjectURL(blob);\n",
              "      a.download = filename;\n",
              "      div.appendChild(a);\n",
              "      a.click();\n",
              "      div.remove();\n",
              "    }\n",
              "  "
            ]
          },
          "metadata": {}
        },
        {
          "output_type": "display_data",
          "data": {
            "text/plain": [
              "<IPython.core.display.Javascript object>"
            ],
            "application/javascript": [
              "download(\"download_ffba4249-b0b4-40bb-a51f-5958ac31ce88\", \"otros.csv\", 22)"
            ]
          },
          "metadata": {}
        }
      ]
    }
  ],
  "metadata": {
    "colab": {
      "provenance": []
    },
    "kernelspec": {
      "display_name": "Python 3",
      "name": "python3"
    },
    "language_info": {
      "name": "python"
    }
  },
  "nbformat": 4,
  "nbformat_minor": 0
}